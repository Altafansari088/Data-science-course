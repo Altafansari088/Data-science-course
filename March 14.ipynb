{
 "cells": [
  {
   "cell_type": "markdown",
   "id": "264e1046-978a-4140-8a71-302f0d1e48d7",
   "metadata": {},
   "source": [
    "Q1. Write a Python function that takes in two arrays of data and calculates the F-value for a variance ratio test. The function should return the F-value and the corresponding p-value for the test."
   ]
  },
  {
   "cell_type": "code",
   "execution_count": null,
   "id": "5062fc12-4b42-4d9d-aa17-0d3fe9825261",
   "metadata": {},
   "outputs": [],
   "source": [
    "import numpy as np\n",
    "from scipy.stats import f\n",
    "\n",
    "def variance_ratio_test(data1, data2):\n",
    "    var1 = np.var(data1, ddof=1)\n",
    "    var2 = np.var(data2, ddof=1)\n",
    "    f_value = var1 / var2\n",
    "    df1 = len(data1) - 1\n",
    "    df2 = len(data2) - 1\n",
    "    p_value = f.sf(f_value, df1, df2)\n",
    "    return f_value, p_value\n"
   ]
  },
  {
   "cell_type": "markdown",
   "id": "c12cc8d8-cc9d-48a0-89a9-91cb3aabc5db",
   "metadata": {},
   "source": [
    "Q2. Given a significance level of 0.05 and the degrees of freedom for the numerator and denominator of an F-distribution, write a Python function that returns the critical F-value for a two-tailed test."
   ]
  },
  {
   "cell_type": "code",
   "execution_count": null,
   "id": "b1dc6e0d-7878-4908-b88e-e59b7a14457a",
   "metadata": {},
   "outputs": [],
   "source": [
    "from scipy.stats import f\n",
    "\n",
    "def critical_f_value(alpha, df1, df2):\n",
    "    return f.ppf(1 - alpha/2, df1, df2)\n"
   ]
  },
  {
   "cell_type": "markdown",
   "id": "c8e2e4d1-0142-490e-8d62-f99bb0862c28",
   "metadata": {},
   "source": [
    "Q3. Write a Python program that generates random samples from two normal distributions with known variances and uses an F-test to determine if the variances are equal. The program should output the F-value, degrees of freedom, and p-value for the test."
   ]
  },
  {
   "cell_type": "code",
   "execution_count": null,
   "id": "fabee067-c4a7-4d75-8ab5-731a39059f25",
   "metadata": {},
   "outputs": [],
   "source": [
    "import numpy as np\n",
    "from scipy.stats import f\n",
    "\n",
    "def f_test_for_variances(data1, data2):\n",
    "    var1 = np.var(data1, ddof=1)\n",
    "    var2 = np.var(data2, ddof=1)\n",
    "    f_value = var1 / var2\n",
    "    df1 = len(data1) - 1\n",
    "    df2 = len(data2) - 1\n",
    "    p_value = f.sf(f_value, df1, df2)\n",
    "    return f_value, df1, df2, p_value\n",
    "\n",
    "# Example usage:\n",
    "data1 = np.random.normal(0, 1, 100)\n",
    "data2 = np.random.normal(0, 1, 100)\n",
    "f_value, df1, df2, p_value = f_test_for_variances(data1, data2)\n",
    "print(\"F-value:\", f_value)\n",
    "print(\"Degrees of freedom:\", df1, df2)\n",
    "print(\"p-value:\", p_value)\n"
   ]
  },
  {
   "cell_type": "markdown",
   "id": "274de60b-47ef-4e68-b2e6-75d5fc88c46c",
   "metadata": {},
   "source": [
    "Q4. The variances of two populations are known to be 10 and 15. A sample of 12 observations is taken from each population. Conduct an F-test at the 5% significance level to determine if the variances are significantly different."
   ]
  },
  {
   "cell_type": "code",
   "execution_count": null,
   "id": "cba92a72-69db-46e2-927b-5404457e57af",
   "metadata": {},
   "outputs": [],
   "source": [
    "from scipy.stats import f\n",
    "\n",
    "var1 = 10\n",
    "var2 = 15\n",
    "n1 = 12\n",
    "n2 = 12\n",
    "\n",
    "f_value = var2 / var1\n",
    "df1 = n2 - 1\n",
    "df2 = n1 - 1\n",
    "p_value = f.sf(f_value, df1, df2)\n",
    "\n",
    "alpha = 0.05\n",
    "critical_f_value = f.ppf(1 - alpha/2, df1, df2)\n",
    "\n",
    "if f_value > critical_f_value:\n",
    "    print(\"Reject the null hypothesis. Variances are significantly different.\")\n",
    "else:\n",
    "    print(\"Fail to reject the null hypothesis. Variances are not significantly different.\")\n"
   ]
  },
  {
   "cell_type": "markdown",
   "id": "b93577ae-adf5-4076-ae5c-7405618bb7af",
   "metadata": {},
   "source": [
    "Q5. A manufacturer claims that the variance of the diameter of a certain product is 0.005. A sample of 25 products is taken, and the sample variance is found to be 0.006. Conduct an F-test at the 1% significance level to determine if the claim is justified."
   ]
  },
  {
   "cell_type": "code",
   "execution_count": null,
   "id": "775ca896-90ab-421d-ab06-2f5e2fd12398",
   "metadata": {},
   "outputs": [],
   "source": [
    "from scipy.stats import f\n",
    "\n",
    "claimed_variance = 0.005\n",
    "sample_variance = 0.006\n",
    "n = 25\n",
    "\n",
    "f_value = sample_variance / claimed_variance\n",
    "df1 = n - 1\n",
    "df2 = 1\n",
    "p_value = f.sf(f_value, df1, df2)\n",
    "\n",
    "alpha = 0.01\n",
    "critical_f_value = f.ppf(1 - alpha/2, df1, df2)\n",
    "\n",
    "if f_value > critical_f_value:\n",
    "    print(\"Reject the null hypothesis. The claim is not justified.\")\n",
    "else:\n",
    "    print(\"Fail to reject the null hypothesis. The claim is justified.\")\n"
   ]
  },
  {
   "cell_type": "markdown",
   "id": "4323fbb9-64d2-4904-b977-8212b1caef84",
   "metadata": {},
   "source": [
    "Q6. Write a Python function that takes in the degrees of freedom for the numerator and denominator of an F-distribution and calculates the mean and variance of the distribution. The function should return the mean and variance as a tuple."
   ]
  },
  {
   "cell_type": "code",
   "execution_count": null,
   "id": "c3618418-c241-489e-b50a-43ecf2a25ae6",
   "metadata": {},
   "outputs": [],
   "source": [
    "from scipy.stats import f\n",
    "\n",
    "def f_distribution_mean_variance(df1, df2):\n",
    "    mean = df2 / (df2 - 2)\n",
    "    variance = (2 * (df2**2) * (df1 + df2 - 2)) / (df1 * (df2 - 2)**2 * (df2 - 4))\n",
    "    return mean, variance\n"
   ]
  },
  {
   "cell_type": "markdown",
   "id": "9d778104-53f8-464f-9be3-2dca786466a3",
   "metadata": {},
   "source": [
    "Q7. A random sample of 10 measurements is taken from a normal population with an unknown variance. The sample variance is found to be 25. Another random sample of 15 measurements is taken from another normal population with an unknown variance, and the sample variance is found to be 20. Conduct an F-test at the 10% significance level to determine if the variances are significantly differen"
   ]
  },
  {
   "cell_type": "code",
   "execution_count": null,
   "id": "3edc0160-3c04-4b80-bf65-3a6b7cc3d295",
   "metadata": {},
   "outputs": [],
   "source": [
    "from scipy.stats import f\n",
    "\n",
    "sample_variance1 = 25\n",
    "sample_variance2 = 20\n",
    "n1 = 10\n",
    "n2 = 15\n",
    "\n",
    "f_value = sample_variance2 / sample_variance1\n",
    "df1 = n2 - 1\n",
    "df2 = n1 - 1\n",
    "p_value = f.sf(f_value, df1, df2)\n",
    "\n",
    "alpha = 0.10\n",
    "critical_f_value = f.ppf(1 - alpha/2, df1, df2)\n",
    "\n",
    "if f_value > critical_f_value:\n",
    "    print(\"Reject the null hypothesis. Variances are significantly different.\")\n",
    "else:\n",
    "    print(\"Fail to reject the null hypothesis. Variances are not significantly different.\")\n"
   ]
  },
  {
   "cell_type": "markdown",
   "id": "3c7342a5-2956-4399-80be-ac810768fc9f",
   "metadata": {},
   "source": [
    "Q8. The following data represent the waiting times in minutes at two different restaurants on a Saturday night: Restaurant A: 24, 25, 28, 23, 22, 20, 27; Restaurant B: 31, 33, 35, 30, 32, 36. Conduct an F-test at the 5% significance level to determine if the variances are significantly different."
   ]
  },
  {
   "cell_type": "code",
   "execution_count": null,
   "id": "d29c1e02-4d17-40e2-bf9d-f13235f091d4",
   "metadata": {},
   "outputs": [],
   "source": [
    "from scipy.stats import f\n",
    "\n",
    "data1 = [24, 25, 28, 23, 22, 20, 27]\n",
    "data2 = [31, 33, 35, 30, 32, 36]\n",
    "\n",
    "sample_variance1 = np.var(data1, ddof=1)\n",
    "sample_variance2 = np.var(data2, ddof=1)\n",
    "n1 = len(data1)\n",
    "n2 = len(data2)\n",
    "\n",
    "f_value = sample_variance2 / sample_variance1\n",
    "df1 = n2 - 1\n",
    "df2 = n1 - 1\n",
    "p_value = f.sf(f_value, df1, df2)\n",
    "\n",
    "alpha = 0.05\n",
    "critical_f_value = f.ppf(1 - alpha/2, df1, df2)\n",
    "\n",
    "if f_value > critical_f_value:\n",
    "    print(\"Reject the null hypothesis. Variances are significantly different.\")\n",
    "else:\n",
    "    print(\"Fail to reject the null hypothesis. Variances are not significantly different.\")\n"
   ]
  },
  {
   "cell_type": "markdown",
   "id": "25a5e919-9d22-4d1a-b293-b21dfb85bc80",
   "metadata": {},
   "source": [
    "Q9. The following data represent the test scores of two groups of students: Group A: 80, 85, 90, 92, 87, 83; Group B: 75, 78, 82, 79, 81, 84. Conduct an F-test at the 1% significance level to determine if the variances are significantly different."
   ]
  },
  {
   "cell_type": "code",
   "execution_count": null,
   "id": "d2490b39-692d-4ff5-b8e9-70cf457e24be",
   "metadata": {},
   "outputs": [],
   "source": [
    "from scipy.stats import f\n",
    "\n",
    "group_a_scores = [80, 85, 90, 92, 87, 83]\n",
    "group_b_scores = [75, 78, 82, 79, 81, 84]\n",
    "\n",
    "sample_variance1 = np.var(group_a_scores, ddof=1)\n",
    "sample_variance2 = np.var(group_b_scores, ddof=1)\n",
    "n1 = len(group_a_scores)\n",
    "n2 = len(group_b_scores)\n",
    "\n",
    "f_value = sample_variance2 / sample_variance1\n",
    "df1 = n2 - 1\n",
    "df2 = n1 - 1\n",
    "p_value = f.sf(f_value, df1, df2)\n",
    "\n",
    "alpha = 0.01\n",
    "critical_f_value = f.ppf(1 - alpha/2, df1, df2)\n",
    "\n",
    "if f_value > critical_f_value:\n",
    "    print(\"Reject the null hypothesis. Variances are significantly different.\")\n",
    "else:\n",
    "    print(\"Fail to reject the null hypothesis. Variances are not significantly different.\")\n"
   ]
  }
 ],
 "metadata": {
  "kernelspec": {
   "display_name": "Python 3 (ipykernel)",
   "language": "python",
   "name": "python3"
  },
  "language_info": {
   "codemirror_mode": {
    "name": "ipython",
    "version": 3
   },
   "file_extension": ".py",
   "mimetype": "text/x-python",
   "name": "python",
   "nbconvert_exporter": "python",
   "pygments_lexer": "ipython3",
   "version": "3.10.8"
  }
 },
 "nbformat": 4,
 "nbformat_minor": 5
}
