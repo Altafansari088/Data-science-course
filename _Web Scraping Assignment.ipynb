{
 "cells": [
  {
   "cell_type": "markdown",
   "id": "4c14c1cb-8a5e-4e0d-951d-b06bda482725",
   "metadata": {},
   "source": [
    "### Q1. What is Web Scraping? Why is it Used? Give three areas where Web Scraping is used to get data."
   ]
  },
  {
   "cell_type": "markdown",
   "id": "c624ccbd-9598-450c-9b10-66c2dad9bd96",
   "metadata": {},
   "source": [
    "Ans.Web scraping is used in a variety of digital businesses that rely on data harvesting. Legitimate use cases include: Search engine bots crawling a site, analyzing its content and then ranking it"
   ]
  },
  {
   "cell_type": "markdown",
   "id": "b4de9d5e-cde6-48e9-ac3c-87e5e829cff5",
   "metadata": {},
   "source": [
    "### Q2. What are the different methods used for Web Scraping?"
   ]
  },
  {
   "cell_type": "code",
   "execution_count": null,
   "id": "a8b1db95-4209-4601-bf20-49c81b170208",
   "metadata": {},
   "outputs": [],
   "source": [
    "Web Scraping Techniques. Human copy-and-paste. Text pattern matching. HTTP programming."
   ]
  },
  {
   "cell_type": "markdown",
   "id": "3634c91d-38ef-4436-b89a-25e088e0b9ba",
   "metadata": {},
   "source": [
    "### Q3. What is Beautiful Soup? Why is it used?"
   ]
  },
  {
   "cell_type": "markdown",
   "id": "61e88350-5347-4091-859f-7f8bfc8620d5",
   "metadata": {},
   "source": [
    "Ans.Beautiful Soup provides simple methods for navigating, searching, and modifying a parse tree in HTML, XML files. It transforms a complex HTML document into a tree of Python objects"
   ]
  },
  {
   "cell_type": "markdown",
   "id": "4491a5b0-c080-40b7-b362-af00b41f96b1",
   "metadata": {},
   "source": [
    "### Q4. Why is flask used in this Web Scraping project?"
   ]
  },
  {
   "cell_type": "markdown",
   "id": "14f275af-a6d7-476d-8d41-40b57739bf71",
   "metadata": {},
   "source": [
    "Ans.Flask is a lightweight framework to build websites. We'll use this to parse our collected data and display it as HTML in a new HTML file"
   ]
  },
  {
   "cell_type": "markdown",
   "id": "5e8917ca-45ca-4ba9-887e-29a5c4c28131",
   "metadata": {},
   "source": [
    "### Q5. Write the names of AWS services used in this project. Also, explain the use of each service."
   ]
  },
  {
   "cell_type": "markdown",
   "id": "7d2babd1-870e-42e0-9bd9-c4480eacbe46",
   "metadata": {},
   "source": [
    "Amazon EC2: Elastic Compute Cloud (EC2) is a web service that provides resizable compute capacity in the cloud\n",
    "\n",
    "Amazon RDS: Relational Database Service (RDS) is a fully managed relational database service that makes it easy to set up, operate, and scale a relational database in the cloud.\n",
    "\n",
    "Amazon S3: Simple Storage Service (S3) is an object storage service that provides industry-leading scalability, data availability, security, and performance. S3 can be used to store and retrieve data from anywhere on the web.\n"
   ]
  }
 ],
 "metadata": {
  "kernelspec": {
   "display_name": "Python 3 (ipykernel)",
   "language": "python",
   "name": "python3"
  },
  "language_info": {
   "codemirror_mode": {
    "name": "ipython",
    "version": 3
   },
   "file_extension": ".py",
   "mimetype": "text/x-python",
   "name": "python",
   "nbconvert_exporter": "python",
   "pygments_lexer": "ipython3",
   "version": "3.10.8"
  }
 },
 "nbformat": 4,
 "nbformat_minor": 5
}
