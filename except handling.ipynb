{
 "cells": [
  {
   "cell_type": "markdown",
   "id": "21f07b56-7781-4835-8db1-836497f0d36c",
   "metadata": {},
   "source": [
    "## Q1. What is an Exception in python? Write the differene between Exeptions and syntex errors?"
   ]
  },
  {
   "cell_type": "markdown",
   "id": "16b57252-e669-4e1d-976b-d82f02ab5298",
   "metadata": {},
   "source": [
    "Ans.Errors cannot be handled, while Python exceptions can be handled at the run time. An error can be a syntax (parsing) error, while there can be many types of exceptions that could occur during the execution and are not unconditionally inoperable."
   ]
  },
  {
   "cell_type": "markdown",
   "id": "819d1507-1618-48a3-a4e3-170d9af7a0f8",
   "metadata": {},
   "source": [
    "## Q2. What happens when an exception is not handled? Explain with an example?\n"
   ]
  },
  {
   "cell_type": "markdown",
   "id": "a89878d4-63fe-4d82-a8a3-f69c1c90c3f9",
   "metadata": {},
   "source": [
    " Ans.What happens if an exception is not caught? If an exception is not caught (with a catch block), the runtime system will abort the program (i.e. crash) and an exception message will print to the console."
   ]
  },
  {
   "cell_type": "markdown",
   "id": "86eb6013-4e49-4f0d-8c19-15a6b81c3ec9",
   "metadata": {},
   "source": [
    "## Q3. which python statements are used to catch and handle exceptions? Explain with an example"
   ]
  },
  {
   "cell_type": "markdown",
   "id": "1c2562de-be80-4682-ad26-4f3ef1d6cdbc",
   "metadata": {},
   "source": [
    "Ans. In Python, we catch exceptions and handle them using try and except code blocks. The try clause contains the code that can raise an exception, while the except clause contains the code lines that handle the exception"
   ]
  },
  {
   "cell_type": "markdown",
   "id": "6641f1d2-0357-4db4-856b-f13b6163dc1b",
   "metadata": {},
   "source": [
    "## Q4 Explain with an example:\n",
    "    a. try and else\n",
    "    b.finally\n",
    "    c.raise"
   ]
  },
  {
   "cell_type": "markdown",
   "id": "2ece6217-3dab-4294-865c-6cbd311ed5c5",
   "metadata": {},
   "source": [
    "Ans. \n",
    "### Try: This block will test the excepted error to occur\n",
    "### Except:  Here you can handle the error\n",
    "### Else: If there is no exception then this block will be executed\n",
    "### Finally: Finally block always gets executed either exception is generated or not"
   ]
  },
  {
   "cell_type": "markdown",
   "id": "a108dc4f-4e0d-43bb-8522-431d7c0488f3",
   "metadata": {},
   "source": [
    "## Q5. What are custom Exceptions in python? Why do we need custom Exception? Explain with an example."
   ]
  },
  {
   "cell_type": "markdown",
   "id": "cb6d7811-6b33-4278-aaaa-a7bb44ba4c3d",
   "metadata": {},
   "source": [
    "Ans.In Python, we can define custom exceptions by creating a new class that is derived from the built-in Exception class. Here's the syntax to define custom exceptions, Built-in exceptions offer information about Python-related problems, and custom exceptions will add information about project-related problems"
   ]
  },
  {
   "cell_type": "code",
   "execution_count": null,
   "id": "d0def08c-bf88-4794-9a15-f0c04634581f",
   "metadata": {},
   "outputs": [],
   "source": [
    "class CustomError(Exception):\n",
    "    pass\n",
    "\n",
    "try:\n",
    "\n",
    "except CustomError:"
   ]
  },
  {
   "cell_type": "markdown",
   "id": "cd39fb5e-649d-4abd-9af1-3ae39e55145d",
   "metadata": {},
   "source": [
    "## 6. Create a custom exception class. use this class to handle on exception."
   ]
  },
  {
   "cell_type": "code",
   "execution_count": null,
   "id": "76f3f6ba-5dc9-4865-9131-e2e28a6aa190",
   "metadata": {},
   "outputs": [],
   "source": [
    "Ans.class MyError(Exception):\n",
    "    def __init__(self, value):\n",
    "        self.value = value\n",
    "    def __str__(self):\n",
    "        return(repr(self.value))\n",
    "try:\n",
    "    raise(MyError(3*2))\n",
    "except MyError as error:\n",
    "    print('A New Exception occurred: ', error.value)"
   ]
  }
 ],
 "metadata": {
  "kernelspec": {
   "display_name": "Python 3 (ipykernel)",
   "language": "python",
   "name": "python3"
  },
  "language_info": {
   "codemirror_mode": {
    "name": "ipython",
    "version": 3
   },
   "file_extension": ".py",
   "mimetype": "text/x-python",
   "name": "python",
   "nbconvert_exporter": "python",
   "pygments_lexer": "ipython3",
   "version": "3.10.8"
  }
 },
 "nbformat": 4,
 "nbformat_minor": 5
}
