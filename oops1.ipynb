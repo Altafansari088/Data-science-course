{
 "cells": [
  {
   "cell_type": "markdown",
   "id": "86e66840-2c6b-4113-9688-84854d547787",
   "metadata": {},
   "source": [
    "# Q1. Explain Class and Object with respect to Object-Oriented Programming. Give a suitable example."
   ]
  },
  {
   "cell_type": "markdown",
   "id": "15991d1e-fe0a-412a-a580-37db76f954ae",
   "metadata": {},
   "source": [
    "Ans. Class creates a user-defined data structure, which holds its own data members and member functions, which can be accessed and used by creating an instance of that class. and  An Object is an instance of a Class. A class is like a blueprint while an instance is a copy of the class with actual values"
   ]
  },
  {
   "cell_type": "code",
   "execution_count": null,
   "id": "f334ff39-49ca-4ddb-8ad3-a09634c434c6",
   "metadata": {},
   "outputs": [],
   "source": [
    "class Phone:\n",
    "    def set_color(self,color):\n",
    "        self.color=color\n",
    "    def set_cost(self,cost):\n",
    "        self.cost = cost\n",
    "    def show_color(self):\n",
    "        return self.color\n",
    "    def show_cost(self):\n",
    "        return self.cost"
   ]
  },
  {
   "cell_type": "code",
   "execution_count": null,
   "id": "8a0ec6db-120b-49ca-ac0d-0d3208ee1c73",
   "metadata": {},
   "outputs": [],
   "source": [
    "p1= Phone()\n",
    "p1.set_color(\"blue\")"
   ]
  },
  {
   "cell_type": "code",
   "execution_count": 25,
   "id": "7c0630b3-b9ed-4d2f-8ecc-93a45f014ecc",
   "metadata": {},
   "outputs": [
    {
     "data": {
      "text/plain": [
       "'blue'"
      ]
     },
     "execution_count": 25,
     "metadata": {},
     "output_type": "execute_result"
    }
   ],
   "source": [
    " p1.show_color()"
   ]
  },
  {
   "cell_type": "markdown",
   "id": "3aade331-1535-451a-97b6-714b44f4e0e6",
   "metadata": {},
   "source": [
    "# Q2. Name the four pillars of OOPs."
   ]
  },
  {
   "cell_type": "markdown",
   "id": "c590bc1a-227d-41e2-bae0-322f380c52d5",
   "metadata": {},
   "source": [
    "Ans.These four pillars are Inheritance, Polymorphism, Encapsulation and Abstraction."
   ]
  },
  {
   "cell_type": "markdown",
   "id": "ada85b7b-6d27-45d5-8b54-150af9f710aa",
   "metadata": {},
   "source": [
    "# Q3. Explain why the __init__() function is used. Give a suitable example."
   ]
  },
  {
   "cell_type": "markdown",
   "id": "eda71fdc-99c4-4446-8cff-211b31e09d2f",
   "metadata": {},
   "source": [
    "Ans.Init is use the__init__() function to assing values to object properties,or the operations tha are necessary to do when the object i sbeing created."
   ]
  },
  {
   "cell_type": "code",
   "execution_count": null,
   "id": "37934680-67e6-482b-b82d-abf9ad4db1b7",
   "metadata": {},
   "outputs": [],
   "source": [
    "class Person:\n",
    "  def __init__(self, name, age):\n",
    "    self.name = name\n",
    "    self.age = age\n",
    "\n",
    "p1 = Person(\"John\", 36)\n",
    "\n",
    "print(p1.name)\n",
    "print(p1.age)"
   ]
  },
  {
   "cell_type": "markdown",
   "id": "df08faea-3f9a-46ff-b5c4-47bc0192eb8b",
   "metadata": {},
   "source": [
    "# Q4. Why self is used in OOPs?"
   ]
  },
  {
   "cell_type": "markdown",
   "id": "cd7ddd0e-c9f5-4551-b00d-bdc206dc586e",
   "metadata": {},
   "source": [
    "Ans.The self variable is used to represent the instance of the class which is often used in object-oriented programming. It works as a reference to the object. Python uses the self parameter to refer to instance attributes and methods of the class."
   ]
  },
  {
   "cell_type": "markdown",
   "id": "bc557a07-14a3-42ce-a870-4e467467eb15",
   "metadata": {},
   "source": [
    "# Q5. What is inheritance? Give an example for each type of inheritance."
   ]
  },
  {
   "cell_type": "markdown",
   "id": "c2707b4f-b2a8-47dc-a7e6-cae09cf9d95c",
   "metadata": {},
   "source": [
    "Ans.Inheritance is a process of obtaining properties and characteristics(variables and methods) of another class. In this hierarchical order, the class which inherits another class is called subclass or child class, and the other class is the parent class"
   ]
  },
  {
   "cell_type": "code",
   "execution_count": 27,
   "id": "2da03f3d-1c4a-4243-8366-dd4fba4b28ce",
   "metadata": {},
   "outputs": [],
   "source": [
    "class Parent:\n",
    "    def func1(self):\n",
    "        print(\"This function is in parent class.\")\n",
    " \n",
    "class Child(Parent):\n",
    "    def func2(self):\n",
    "        print(\"This function is in child class.\")\n",
    " \n",
    " "
   ]
  },
  {
   "cell_type": "code",
   "execution_count": 28,
   "id": "961ed7dd-6c9b-4afb-9355-9532586c3ea8",
   "metadata": {},
   "outputs": [
    {
     "name": "stdout",
     "output_type": "stream",
     "text": [
      "This function is in parent class.\n",
      "This function is in child class.\n"
     ]
    }
   ],
   "source": [
    "object = Child()\n",
    "object.func1()\n",
    "object.func2()"
   ]
  }
 ],
 "metadata": {
  "kernelspec": {
   "display_name": "Python 3 (ipykernel)",
   "language": "python",
   "name": "python3"
  },
  "language_info": {
   "codemirror_mode": {
    "name": "ipython",
    "version": 3
   },
   "file_extension": ".py",
   "mimetype": "text/x-python",
   "name": "python",
   "nbconvert_exporter": "python",
   "pygments_lexer": "ipython3",
   "version": "3.10.8"
  }
 },
 "nbformat": 4,
 "nbformat_minor": 5
}
