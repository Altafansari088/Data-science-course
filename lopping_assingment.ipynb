{
 "cells": [
  {
   "cell_type": "markdown",
   "id": "a83a5512-4470-4a0d-b58d-0b9bd976af54",
   "metadata": {},
   "source": [
    "# Q1 Write a program to accept percentage from the user and display the grade according to the following."
   ]
  },
  {
   "cell_type": "code",
   "execution_count": null,
   "id": "15b5af97-1ac5-4427-971a-4330a42d5f5d",
   "metadata": {},
   "outputs": [],
   "source": [
    "Marks=int(input(\"Enter the Marks:\"))\n",
    "if Marks>90:\n",
    "    print(\"Grade A\")\n",
    "elif Marks>80 and Marks<=90:\n",
    "    print(\"Grade B\")\n",
    "elif Marks>=60 and Marks<=80:\n",
    "    print(\"Grade C\")\n",
    "else:\n",
    "    print(\"Grade D\")"
   ]
  },
  {
   "cell_type": "markdown",
   "id": "86fad5a1-04df-41f5-a810-35bfb44ae3f1",
   "metadata": {},
   "source": [
    "### Q2. Write a program to accept the cost price of a bike and display the road tax to be paid according to the following criteria:\n",
    " 15% >1,00,000\n",
    " 10% >5,00,000 and <= 1,00,000\n",
    " 5% <=5,00,000`"
   ]
  },
  {
   "cell_type": "code",
   "execution_count": null,
   "id": "5aec8ca0-385e-496d-bfcc-0a442f1cb588",
   "metadata": {},
   "outputs": [],
   "source": [
    "Bike=int(input(\"Enter the bike price :\"))\n",
    "if Bike>100000:\n",
    "    print(\"Price of bike after the Tax is: {}.\".format(Bike + Bike*0.15))\n",
    "if Bike>50000 and Bike <=100000:\n",
    "     print(\"Price of bike after the Tax is: {}.\".format(Bike + Bike*0.10))\n",
    "if Bike<=50000:\n",
    "    print(\"Price of bike after the Tax is: {}.\".format(Bike + Bike*0.05))"
   ]
  },
  {
   "cell_type": "markdown",
   "id": "e9d523fa-0d29-4dea-b1b3-1c56e35788c3",
   "metadata": {},
   "source": [
    "#  Q3 Accept any city from the user and display monumnets of that city\n",
    " delhi >> Red fort \\\n",
    " Agra >> Taj Mahal \\\n",
    " Jaipu >> Jal Mahal"
   ]
  },
  {
   "cell_type": "code",
   "execution_count": null,
   "id": "bb0b3c04-cbe3-45b1-89ef-f917e9435f8e",
   "metadata": {},
   "outputs": [],
   "source": [
    "city = input(\"Enter a city\")\n",
    "\n",
    "if city.upper() == \"DELHI\":\n",
    "\n",
    "   print(\"Red Fort\")\n",
    "\n",
    "elif city.upper() == \"AGRA\":\n",
    "\n",
    "   print(\"Taj Mahal\")\n",
    "\n",
    "elif city.upper() == \"JAIPUR\":\n",
    "\n",
    "   print(\"Jal Mahal\")\n",
    "\n",
    "else:\n",
    "\n",
    "   print(\"Enter a valid city\")\n",
    "\n"
   ]
  },
  {
   "cell_type": "markdown",
   "id": "e4504ba9-1233-4f36-855d-468dbe8738e5",
   "metadata": {},
   "source": [
    "## Q4 Check how many times a given number can be divided by 3 before it is less than or equal to 10"
   ]
  },
  {
   "cell_type": "code",
   "execution_count": null,
   "id": "6013a553-acb9-43ec-a531-14ca7039c86d",
   "metadata": {},
   "outputs": [],
   "source": [
    "num = int (input (“Enter the number whose divisibility needs to be checked:”))\n",
    "\n",
    "div = int (input (“Enter the number with which divisibility needs to be checked:”))\n",
    "\n",
    "if num%div == 0:\n",
    "\n",
    "              print (“The number is divisible.”)\n",
    "\n",
    "else:\n",
    "\n",
    "              print (“The number is not divisible.”)\n"
   ]
  },
  {
   "cell_type": "markdown",
   "id": "6a7ce68a-16b3-4fd8-8045-776417b37e76",
   "metadata": {},
   "source": [
    "### Q5 Why and when to use while loop in Python give a detail description with example"
   ]
  },
  {
   "cell_type": "markdown",
   "id": "28537e6c-a6da-4547-923d-98802ca8160a",
   "metadata": {},
   "source": [
    "#####  Ans. 5.\tAn if statement checks if an expression is true or false, and then runs the code inside the statement only if it is true. The code inside the loop is only run once... A while statement is a loopBasically, it continues to execute the code in the while statement for however long the expression is true."
   ]
  },
  {
   "cell_type": "code",
   "execution_count": 1,
   "id": "e954eb60-6535-4741-93ff-07cb09895e47",
   "metadata": {},
   "outputs": [
    {
     "name": "stdout",
     "output_type": "stream",
     "text": [
      "hello Altaf\n",
      "hello Altaf\n",
      "hello Altaf\n"
     ]
    }
   ],
   "source": [
    "count = 0\n",
    "while (count < 3):\n",
    "    count = count + 1\n",
    "    print(\"hello Altaf\")\n"
   ]
  },
  {
   "cell_type": "markdown",
   "id": "6a4e09b4-8f19-45ae-998a-336dab0f316d",
   "metadata": {},
   "source": [
    "# Q6 Use nested while loop to print 3 different patterns."
   ]
  },
  {
   "cell_type": "code",
   "execution_count": 4,
   "id": "852a55c3-500c-4d04-a94d-306498c6d87f",
   "metadata": {},
   "outputs": [
    {
     "name": "stdin",
     "output_type": "stream",
     "text": [
      "enter any number 8\n"
     ]
    },
    {
     "name": "stdout",
     "output_type": "stream",
     "text": [
      "*\n",
      "**\n",
      "***\n",
      "****\n",
      "*****\n",
      "******\n",
      "*******\n",
      "********\n"
     ]
    }
   ],
   "source": [
    "num=int(input(\"enter any number\"))\n",
    "row=0\n",
    "while row<num:\n",
    "    star = row +1\n",
    "    while star>0:\n",
    "        print(\"*\",end=\"\")\n",
    "        star=star-1\n",
    "    row=row+1\n",
    "    print()"
   ]
  },
  {
   "cell_type": "code",
   "execution_count": 7,
   "id": "4b9f901f-6726-47ed-886f-aa40b52fb430",
   "metadata": {},
   "outputs": [
    {
     "name": "stdin",
     "output_type": "stream",
     "text": [
      "enter any number:  8\n"
     ]
    },
    {
     "name": "stdout",
     "output_type": "stream",
     "text": [
      "              * \n",
      "            * * \n",
      "          * * * \n",
      "        * * * * \n",
      "      * * * * * \n",
      "    * * * * * * \n",
      "  * * * * * * * \n",
      "* * * * * * * * \n"
     ]
    }
   ],
   "source": [
    "num=int(input(\"enter any number: \"))\n",
    "row=0\n",
    "while row<num:\n",
    "    space = num-row-1\n",
    "    while space>0:\n",
    "        print(end=\"  \")\n",
    "        space=space-1\n",
    "    star = row+1\n",
    "    while star>0:\n",
    "        print(\"*\", end=\" \")\n",
    "        star=star-1\n",
    "    row=row+1\n",
    "    print()"
   ]
  },
  {
   "cell_type": "code",
   "execution_count": 8,
   "id": "dd37014e-8854-4b0d-923e-2ab66959af9f",
   "metadata": {},
   "outputs": [
    {
     "name": "stdin",
     "output_type": "stream",
     "text": [
      "Enter number of rows :  8\n"
     ]
    },
    {
     "name": "stdout",
     "output_type": "stream",
     "text": [
      "* * * * * * * * \n",
      "* * * * * * * \n",
      "* * * * * * \n",
      "* * * * * \n",
      "* * * * \n",
      "* * * \n",
      "* * \n",
      "* \n"
     ]
    }
   ],
   "source": [
    "n = int(input('Enter number of rows : '))\n",
    "\n",
    "i = 1\n",
    "while i <= n :\n",
    "    j = n\n",
    "    while j >= i:\n",
    "        print(\"*\", end = \" \")\n",
    "        j -= 1\n",
    "    print()\n",
    "    i += 1"
   ]
  },
  {
   "cell_type": "markdown",
   "id": "57e2f559-4ad4-40dd-b454-793561a3b39a",
   "metadata": {},
   "source": [
    "# Q7.Reverse a while loop to display numbers from 10 to 1."
   ]
  },
  {
   "cell_type": "code",
   "execution_count": null,
   "id": "f9ed75c1-4d42-47ec-a390-901036ed402a",
   "metadata": {},
   "outputs": [],
   "source": [
    "i = 10\n",
    "while i > 0:\n",
    "    print(i)\n",
    "    i = i - 1"
   ]
  },
  {
   "cell_type": "markdown",
   "id": "49c1fdec-e957-44b8-8be2-916eebbf7dc3",
   "metadata": {},
   "source": [
    "# Q8.Reverse a while loop to display numbers 10 to 1."
   ]
  },
  {
   "cell_type": "code",
   "execution_count": null,
   "id": "b10566c0-eb6f-4304-a203-f5a1ed064ec0",
   "metadata": {},
   "outputs": [],
   "source": [
    "Ans.i = 10\n",
    "while i > 0:\n",
    "    print(i)\n",
    "    i = i - 1"
   ]
  }
 ],
 "metadata": {
  "kernelspec": {
   "display_name": "Python 3 (ipykernel)",
   "language": "python",
   "name": "python3"
  },
  "language_info": {
   "codemirror_mode": {
    "name": "ipython",
    "version": 3
   },
   "file_extension": ".py",
   "mimetype": "text/x-python",
   "name": "python",
   "nbconvert_exporter": "python",
   "pygments_lexer": "ipython3",
   "version": "3.10.8"
  }
 },
 "nbformat": 4,
 "nbformat_minor": 5
}
