{
 "cells": [
  {
   "cell_type": "markdown",
   "id": "0f6d66b0-b8e0-4c38-9205-dd99f40bd5b4",
   "metadata": {},
   "source": [
    "### Q1. What is an API? Give an example, where an API is used in real life."
   ]
  },
  {
   "cell_type": "markdown",
   "id": "b9b1f9b0-128e-461c-a310-b983c7950baf",
   "metadata": {},
   "source": [
    "#### Ans. APIs are used in web applications to connect user-facing front ends with critical back-end functionality and data.\n",
    "\n",
    "#### Example Twitter has numerous bots that utilize the Twitter API to perform automated tasks."
   ]
  },
  {
   "cell_type": "markdown",
   "id": "8a8dbcd9-316b-49e9-ad94-660236a055ae",
   "metadata": {},
   "source": [
    "### Q2. Give advantages and disadvantages of using API."
   ]
  },
  {
   "cell_type": "markdown",
   "id": "1874d465-330e-42d6-b824-7e3810074034",
   "metadata": {},
   "source": [
    "Ans. The main advantage of providing an API is that it allows your users to do more with your product or service (i.e. it increases the value of your product). This typically takes one of two forms -\n",
    "\n",
    "an integration. An example of an integration is to push notifications from your product (such as CRM, Helpdesk) to a messaging tool such as Slack. In this way, if your customer uses Slack they can receive notifications without having to login directly to your system or check emails.\n",
    "new functionality. In the early days of Twitter, some of the most popular Twitter clients were produced by third parties using the Twitter API. Twitter and its users benefited from the new functionality that was undertaken by other companies.\n",
    "\n",
    "The disadvantages to providing an API are,\n",
    "\n",
    "Cost. Providing an API is expensive in terms of development time, ongoing maintenance, providing API documentation on your website and providing support to users of your API.\n",
    "\n",
    "\n",
    "Security exposure. Adding an API adds another attack surface to your website."
   ]
  },
  {
   "cell_type": "markdown",
   "id": "8f138bd0-c85a-4f86-bdec-f7aea9aba251",
   "metadata": {},
   "source": [
    "## Q3. What is a Web API? Differentiate between API and Web API."
   ]
  },
  {
   "cell_type": "markdown",
   "id": "fe5a4f88-b602-4ce7-92d2-f8ff3efde1cb",
   "metadata": {},
   "source": [
    "API\n",
    "\n",
    "Web services are a type of API, which must be accessed through a network connection.\n",
    "\n",
    "Web service is used for REST, SOAP and XML-RPC for communication.\n",
    "\n",
    "All Web services are APIs."
   ]
  },
  {
   "cell_type": "markdown",
   "id": "31da03d0-4c0a-423d-98b1-e700dc43a6d2",
   "metadata": {},
   "source": [
    "Web API\n",
    "\n",
    "APIs are application interfaces, implying that one application can communicate with another application in a standardized manner.\n",
    "\n",
    "API is used for any style of communication.\n",
    "\n",
    "APIs are not web services."
   ]
  },
  {
   "cell_type": "markdown",
   "id": "a3431bfb-221c-4a64-ae4c-263efd817c87",
   "metadata": {},
   "source": [
    "## Q4. Explain REST and SOAP Architecture. Mention shortcomings of SOAP."
   ]
  },
  {
   "cell_type": "markdown",
   "id": "233064e1-d160-4322-8ecb-3b330342697f",
   "metadata": {},
   "source": [
    "Ans. SOAP is a protocol whereas REST is an architectural pattern. SOAP uses service interfaces to expose its functionality to client applications while REST uses Uniform Service locators to access to the components on the hardware device."
   ]
  },
  {
   "cell_type": "markdown",
   "id": "922380c7-e29d-4abf-9f3c-0175d53ae3cd",
   "metadata": {},
   "source": [
    "## Q5. Differentiate between REST and SOAP."
   ]
  },
  {
   "cell_type": "markdown",
   "id": "9318cafd-d54f-42aa-ba57-2326feb84446",
   "metadata": {},
   "source": [
    "Ans.While SOAP and REST share similarities over the HTTP protocol, SOAP is a more rigid set of messaging patterns than REST. The rules in SOAP are important because we can't achieve any level of standardization without them. REST as an architecture style does not require processing and is naturally more flexible."
   ]
  }
 ],
 "metadata": {
  "kernelspec": {
   "display_name": "Python 3 (ipykernel)",
   "language": "python",
   "name": "python3"
  },
  "language_info": {
   "codemirror_mode": {
    "name": "ipython",
    "version": 3
   },
   "file_extension": ".py",
   "mimetype": "text/x-python",
   "name": "python",
   "nbconvert_exporter": "python",
   "pygments_lexer": "ipython3",
   "version": "3.10.8"
  }
 },
 "nbformat": 4,
 "nbformat_minor": 5
}
