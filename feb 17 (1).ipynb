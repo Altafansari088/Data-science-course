{
 "cells": [
  {
   "cell_type": "markdown",
   "id": "0031b3e4-2527-4f0a-ab87-6b8fbe91030c",
   "metadata": {},
   "source": [
    "Q1. What is MongoDB? Explain non-relational databases in short. In which scenarios it is preferred to use\n",
    "MongoDB over SQL databases?\n",
    "\n",
    "Q2. State and Explain the features of MongoDB.\n",
    "\n",
    "Q3. Write a code to connect MongoDB to Python. Also, create a database and a collection in MongoDB.\n",
    "\n",
    "Q4. Using the database and the collection created in question number 3, write a code to insert one record,\n",
    "and insert many records. Use the find() and find_one() methods to print the inserted record.\n",
    "\n",
    "Q5. Explain how you can use the find() method to query the MongoDB database. Write a simple code to\n",
    "demonstrate this.\n",
    "\n",
    "Q6. Explain the sort() method. Give an example to demonstrate sorting in MongoDB.\n",
    "\n",
    "Q7. Explain why delete_one(), delete_many(), and drop() is used"
   ]
  },
  {
   "cell_type": "markdown",
   "id": "5ec81322-37f1-4469-8335-71560c562020",
   "metadata": {},
   "source": [
    "Q1. MongoDB is a popular document-oriented NoSQL database that provides high scalability, flexibility, and performance. Non-relational databases, like MongoDB, store and retrieve data in a format other than traditional tabular relations used in SQL databases. They are designed to handle unstructured or semi-structured data, making them suitable for scenarios where data models may change frequently or where scalability and performance are crucial. MongoDB is preferred over SQL databases in scenarios such as real-time analytics, content management systems, mobile applications, and social networks.\n",
    "\n",
    "Q2. Features of MongoDB include:\n",
    "    \n",
    "a) Document-oriented: MongoDB stores data in flexible, JSON-like documents, allowing for dynamic schemas and easy data modeling.\n",
    "\n",
    "b) Scalability: It supports horizontal scaling by distributing data across multiple servers, enabling high performance and handling large amounts of data.\n",
    "\n",
    "c) High Availability: MongoDB provides automatic replication and failover, ensuring data availability even in the event of server failures.\n",
    "\n",
    "d) Flexible Data Model: It supports nested documents, arrays, and key-value pairs, allowing for complex data structures and hierarchical relations\n",
    "\n",
    "Q3. Here's an example code to connect MongoDB to Python, create a database, and a collection:"
   ]
  },
  {
   "cell_type": "code",
   "execution_count": null,
   "id": "1a39f5ae-3e26-4924-bba2-785ba238502d",
   "metadata": {},
   "outputs": [],
   "source": [
    "from pymongo import MongoClient\n",
    "\n",
    "# Connect to MongoDB\n",
    "client = MongoClient(\"mongodb://localhost:27017/\")\n",
    "\n",
    "# Create a database\n",
    "database = client[\"mydatabase\"]\n",
    "\n",
    "# Create a collection\n",
    "collection = database[\"mycollection\"]\n"
   ]
  },
  {
   "cell_type": "code",
   "execution_count": null,
   "id": "6d62955a-3edc-4af5-b988-c96b011274c8",
   "metadata": {},
   "outputs": [],
   "source": [
    "Q4. Here's an example code to insert one record and insert multiple records into the collection, and then print the inserted record using find() and find_one() methods:"
   ]
  },
  {
   "cell_type": "code",
   "execution_count": null,
   "id": "c12771b5-6bf7-444c-80ac-560a7eff0e1d",
   "metadata": {},
   "outputs": [],
   "source": [
    "# Insert one record\n",
    "record1 = {\"name\": \"John\", \"age\": 30}\n",
    "collection.insert_one(record1)\n",
    "\n",
    "# Insert multiple records\n",
    "records = [\n",
    "    {\"name\": \"Alice\", \"age\": 25},\n",
    "    {\"name\": \"Bob\", \"age\": 35},\n",
    "    {\"name\": \"Eve\", \"age\": 28}\n",
    "]\n",
    "collection.insert_many(records)\n",
    "\n",
    "# Print inserted records\n",
    "print(\"All records:\")\n",
    "for record in collection.find():\n",
    "    print(record)\n",
    "\n",
    "print(\"One record:\")\n",
    "print(collection.find_one())\n"
   ]
  },
  {
   "cell_type": "markdown",
   "id": "6e02ab04-0d08-4e9e-b6d1-886f51476ef3",
   "metadata": {},
   "source": [
    "Q5. The find() method in MongoDB is used to query the database and retrieve documents that match certain criteria. It allows you to specify conditions using query operators and retrieve multiple documents that satisfy those conditions. Here's a simple code example:"
   ]
  },
  {
   "cell_type": "code",
   "execution_count": null,
   "id": "7c685221-a9d0-40c5-bd53-916bbcc3e1f9",
   "metadata": {},
   "outputs": [],
   "source": [
    "# Find documents with age greater than 30\n",
    "query = {\"age\": {\"$gt\": 30}}\n",
    "results = collection.find(query)\n",
    "\n",
    "# Print the matching documents\n",
    "for result in results:\n",
    "    print(result)\n"
   ]
  },
  {
   "cell_type": "markdown",
   "id": "d72a3a67-9ff6-441a-a34d-6b5899891204",
   "metadata": {},
   "source": [
    "Q6. The sort() method in MongoDB is used to sort the documents in a collection based on a specified field or fields. It takes a field name and an optional direction (ascending or descending) as parameters. Here's an example:"
   ]
  },
  {
   "cell_type": "code",
   "execution_count": null,
   "id": "2b7e00a2-d703-4fc3-9144-5e4defd8c237",
   "metadata": {},
   "outputs": [],
   "source": [
    "# Sort documents by age in ascending order\n",
    "results = collection.find().sort(\"age\", 1)\n",
    "\n",
    "# Print the sorted documents\n",
    "for result in results:\n",
    "    print(result)\n"
   ]
  },
  {
   "cell_type": "markdown",
   "id": "878fa140-f8ac-4e96-b576-4b1d71283a9e",
   "metadata": {},
   "source": [
    "Q7. The delete_one() method is used to delete a single document that matches a specified condition. It removes the first document that satisfies the condition. The delete_many() method is used to delete multiple documents that match a specified condition. It removes all documents that satisfy the condition. The drop() method is used to delete an entire collection from the database. It removes all documents and indexes associated with the collection. "
   ]
  }
 ],
 "metadata": {
  "kernelspec": {
   "display_name": "Python 3 (ipykernel)",
   "language": "python",
   "name": "python3"
  },
  "language_info": {
   "codemirror_mode": {
    "name": "ipython",
    "version": 3
   },
   "file_extension": ".py",
   "mimetype": "text/x-python",
   "name": "python",
   "nbconvert_exporter": "python",
   "pygments_lexer": "ipython3",
   "version": "3.10.8"
  }
 },
 "nbformat": 4,
 "nbformat_minor": 5
}
