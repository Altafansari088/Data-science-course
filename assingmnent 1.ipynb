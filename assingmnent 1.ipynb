{
 "cells": [
  {
   "cell_type": "markdown",
   "id": "60004390-c9ab-4e70-96e5-4ec7856d5580",
   "metadata": {},
   "source": [
    "# 1. who developed python programming Language?"
   ]
  },
  {
   "cell_type": "markdown",
   "id": "98adf33c-7249-4941-a9e1-5cbd9bdec133",
   "metadata": {},
   "source": [
    "Ans. 1.\tPython was created by Guido van Rossum, and first released on February 20, 1991.\n"
   ]
  },
  {
   "cell_type": "markdown",
   "id": "7db6da05-a23a-4cd1-b83e-6ebf0819621a",
   "metadata": {},
   "source": [
    "# 2.which type of programming does pyhon support?"
   ]
  },
  {
   "cell_type": "markdown",
   "id": "150d9fac-7462-4437-b88a-003ecde7c791",
   "metadata": {},
   "source": [
    "  \n",
    "Ans.\tPython is a multi-paradigm programming language. Object-oriented programming and structured programming are fully supported\n"
   ]
  },
  {
   "cell_type": "markdown",
   "id": "2d20baef-2db7-4368-b477-b6901186a1d1",
   "metadata": {},
   "source": [
    "# 3.is python case sensitive when dealing with identifiers?"
   ]
  },
  {
   "cell_type": "markdown",
   "id": "df1008e7-c279-4ca6-a58e-00a33eda0a5e",
   "metadata": {},
   "source": [
    "Ans.Yes, Python is a case-sensitive language, i.e., it treats uppercase and lowercase characters differently."
   ]
  },
  {
   "cell_type": "markdown",
   "id": "f15520fb-28c5-44cc-a99a-51525d37b2e9",
   "metadata": {},
   "source": [
    "# 4. what is the correct extension of the python file?"
   ]
  },
  {
   "cell_type": "markdown",
   "id": "aee5d5b2-9861-4c72-93fe-d489ca0bf8c6",
   "metadata": {},
   "source": [
    "Ans. 4.\tExtension of pyhon file is .py"
   ]
  },
  {
   "cell_type": "markdown",
   "id": "ce06d5e3-4c04-4b47-b867-07034853813e",
   "metadata": {},
   "source": [
    "# 5. is pyhton code compiled or interpreted?"
   ]
  },
  {
   "cell_type": "markdown",
   "id": "2796c50a-1f5e-4a22-a61c-ddbd9e9aca44",
   "metadata": {},
   "source": [
    "Ans.\tPython is both compiled as well as an interpreted language, which means when we run a python code, it is first compiled and then interpreted line by line."
   ]
  },
  {
   "cell_type": "markdown",
   "id": "c83957c0-be5d-484e-bc7f-69d7ec61506d",
   "metadata": {},
   "source": [
    "# 6. Name a few block of code used to define in python language?"
   ]
  },
  {
   "cell_type": "markdown",
   "id": "6e52f51d-09cb-4350-8609-0f7212d88bcb",
   "metadata": {},
   "source": [
    "Ans. Python uses indentation to define blocks of code."
   ]
  },
  {
   "cell_type": "markdown",
   "id": "c710be09-8c38-472e-9b6a-9fca4297be44",
   "metadata": {},
   "source": [
    "# 7. State a character used to give singel-line comments in pyhon?"
   ]
  },
  {
   "cell_type": "markdown",
   "id": "557ce56b-a8cb-4a23-afec-4b0771bc63e6",
   "metadata": {},
   "source": [
    "Ans.\t #(hash) is used to make a single line comment."
   ]
  },
  {
   "cell_type": "markdown",
   "id": "a3316271-e18a-4967-8630-14062f1ebc6b",
   "metadata": {},
   "source": [
    "# 8. Mention functions which can help us to find the version of python that we are currently working on?"
   ]
  },
  {
   "cell_type": "markdown",
   "id": "2be46daf-e7cc-4722-a506-3f1b9e7ec518",
   "metadata": {},
   "source": [
    "Ans.The function sys. version can help us to find the version of python that we are currently working on."
   ]
  },
  {
   "cell_type": "markdown",
   "id": "c9f19a49-e6cf-4754-882b-e7f7f535feb3",
   "metadata": {},
   "source": [
    "# 9. what does pip stand for python?"
   ]
  },
  {
   "cell_type": "markdown",
   "id": "8b3b9d92-e693-45de-806a-3c494dd11bfe",
   "metadata": {},
   "source": [
    "Ans. preferred installer program"
   ]
  },
  {
   "cell_type": "markdown",
   "id": "af4d7873-511d-4fee-9664-29af6d622267",
   "metadata": {},
   "source": [
    "# 10. Mention a few built-in function in python?"
   ]
  },
  {
   "cell_type": "markdown",
   "id": "dcdfe8e2-01cf-4e03-821f-e9f8a74f02ce",
   "metadata": {},
   "source": [
    "Ans.  bool()\tReturns the boolean value of the specified object\n",
    "      filter()\tUse a filter function to exclude items in an iterable object\n",
    "      complex()\tReturns a complex number\n",
    "      eval()\tEvaluates and executes an expression\n"
   ]
  },
  {
   "cell_type": "markdown",
   "id": "ebc08072-a16a-4080-a56f-8c2b5a4b62b6",
   "metadata": {},
   "source": [
    "# 11. What is the maximum possible length of an identifier in python?"
   ]
  },
  {
   "cell_type": "markdown",
   "id": "858528f7-ee10-47c6-9325-f319f659bbff",
   "metadata": {},
   "source": [
    "Ans. identifier can have a maximum length of 79 characters in Python"
   ]
  },
  {
   "cell_type": "markdown",
   "id": "cd3f502b-a946-4f33-ab30-16a7210a31c5",
   "metadata": {},
   "source": [
    "# 12. What are the benefits of using Python?"
   ]
  },
  {
   "cell_type": "code",
   "execution_count": null,
   "id": "7ff3dde4-4190-4c9e-94de-28a313efb26a",
   "metadata": {},
   "outputs": [],
   "source": [
    "Ans. 1) Easy to Learn and Use. \n",
    "2) Mature and Supportive Python Community.\n",
    "3) Support from Renowned Corporate Sponsors. \n",
    "4) Hundreds of Python Libraries and Frameworks. \n",
    "5) Versatility, Efficiency, Reliability, and Speed. \n",
    "6) Big data, Machine Learning and Cloud Computing.\n",
    "7) First-choice Language\n"
   ]
  },
  {
   "cell_type": "markdown",
   "id": "e935dcb2-d8cc-4eaa-9b7f-a05c1f9ac485",
   "metadata": {},
   "source": [
    "# 13. How is  memory managed in python?"
   ]
  },
  {
   "cell_type": "markdown",
   "id": "f17f5e6f-300b-4141-b31f-cdbc6a04ab16",
   "metadata": {},
   "source": [
    "Ans.14\tMemory management in Python involves a private heap containing all Python objects and data structures. The management of this private heap is ensured internally by the Python memory manager"
   ]
  },
  {
   "cell_type": "markdown",
   "id": "4fcf696f-9888-45a3-9918-aeee5fa7e7fb",
   "metadata": {},
   "source": [
    "# 14.How to install python on windows and set path variables?"
   ]
  },
  {
   "cell_type": "markdown",
   "id": "bb39cc0d-f1f3-4f8b-8018-cd1ed8b74282",
   "metadata": {},
   "source": [
    "Ans.15\tIn the section entitled User Variables, double-click on the entry that says Path. Another window will pop up showing a list of paths. Click the New button and paste the path to your Python executable there. Once that's inserted, select your newly added path and click the Move Up button until it's at the top."
   ]
  },
  {
   "cell_type": "markdown",
   "id": "264e1949-622b-4514-86c5-9f266860ab19",
   "metadata": {},
   "source": [
    "# 15. is indentaion required in python?"
   ]
  },
  {
   "cell_type": "markdown",
   "id": "ced77461-be2a-4352-96d2-3f9eff148046",
   "metadata": {},
   "source": [
    "Ans.The indentation in Python is very important. Python uses indentation to indicate a block of code."
   ]
  }
 ],
 "metadata": {
  "kernelspec": {
   "display_name": "Python 3 (ipykernel)",
   "language": "python",
   "name": "python3"
  },
  "language_info": {
   "codemirror_mode": {
    "name": "ipython",
    "version": 3
   },
   "file_extension": ".py",
   "mimetype": "text/x-python",
   "name": "python",
   "nbconvert_exporter": "python",
   "pygments_lexer": "ipython3",
   "version": "3.10.8"
  }
 },
 "nbformat": 4,
 "nbformat_minor": 5
}
