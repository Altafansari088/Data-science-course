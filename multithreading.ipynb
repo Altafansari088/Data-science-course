{
 "cells": [
  {
   "cell_type": "markdown",
   "id": "3dd88a92-3221-4e90-8ea9-6bbdc0871f7c",
   "metadata": {},
   "source": [
    "### Q1 what is multithreading in python? why is it used? Name the module used to handle threads in python"
   ]
  },
  {
   "cell_type": "markdown",
   "id": "967a9aeb-1bec-44fe-bb7f-51480e151bf5",
   "metadata": {},
   "source": [
    "Ans.Multithreading is a threading technique in Python programming to run multiple threads concurrently by rapidly switching between threads with a CPU help (called context switching)."
   ]
  },
  {
   "cell_type": "code",
   "execution_count": null,
   "id": "0485629f-a963-47a8-b170-e56ac00db161",
   "metadata": {},
   "outputs": [],
   "source": [
    "Threading Modules"
   ]
  },
  {
   "cell_type": "markdown",
   "id": "4646472f-5dec-4fce-ae0e-3a4d6f829113",
   "metadata": {},
   "source": [
    "### Q.2 why threading module used? write the use of the following functions\n",
    "\n",
    "\n",
    "1. activeCount\n",
    "2. currentThread\n",
    "3. enumerate)"
   ]
  },
  {
   "cell_type": "markdown",
   "id": "6e49ed67-bb6d-4522-b591-5f9bc17dff4e",
   "metadata": {},
   "source": [
    "Ans threading.activeCount() − Returns the number of thread objects that are active. \n",
    "\n",
    "threading.currentThread() − Returns the number of thread objects in the caller's thread control.\n",
    "\n",
    "threading.enumerate() − Returns a list of all thread objects that are currently active."
   ]
  },
  {
   "cell_type": "markdown",
   "id": "91f5713d-7fa8-4f9b-ba96-7fd349b71d96",
   "metadata": {},
   "source": [
    "### 3. Explain the following functions\n",
    "\n",
    "\n",
    "1. run()\n",
    "2. start()\n",
    "3. join()\n",
    "4. isAlive()"
   ]
  },
  {
   "cell_type": "markdown",
   "id": "2cbd4ad2-5590-4c6a-80d6-e427206f2f1c",
   "metadata": {},
   "source": [
    "Ans \n",
    "run() − The run() method is the entry point for a thread.\n",
    "\n",
    "start() − The start() method starts a thread by calling the run method.\n",
    "\n",
    "join([time]) − The join() waits for threads to terminate.\n",
    "\n",
    "isAlive() − The isAlive() method checks whether a thread is still executing.\n",
    "\n",
    "getName() − The getName() method returns the name of a thread.\n",
    "\n",
    "setName() − The setName() method sets the name of a thread."
   ]
  },
  {
   "cell_type": "markdown",
   "id": "12ee53be-951d-44fe-9941-22708fd7bf54",
   "metadata": {},
   "source": [
    "### Q4 write a python program to create two threads. Thread one must print the list of squares and thread two must print the list of cubes"
   ]
  },
  {
   "cell_type": "code",
   "execution_count": 2,
   "id": "a87e8a88-662f-45b6-9ec3-43d298a5ef10",
   "metadata": {},
   "outputs": [
    {
     "name": "stdout",
     "output_type": "stream",
     "text": [
      "Square: 100\n",
      "Cube: 1000\n",
      "Done!\n"
     ]
    }
   ],
   "source": [
    "import threading\n",
    " \n",
    " \n",
    "def print_cube(num):\n",
    "    print(\"Cube: {}\" .format(num * num * num))\n",
    "def print_square(num):\n",
    "    print(\"Square: {}\" .format(num * num))\n",
    " \n",
    " \n",
    "if __name__ ==\"__main__\":\n",
    "\n",
    "    t1 = threading.Thread(target=print_square, args=(10,))\n",
    "    t2 = threading.Thread(target=print_cube, args=(10,))\n",
    " \n",
    "\n",
    "    t1.start()\n",
    "    t2.start()\n",
    " \n",
    "    t1.join()\n",
    "    t2.join()\n",
    "\n",
    "    print(\"Done!\")"
   ]
  },
  {
   "cell_type": "markdown",
   "id": "0d45be22-db5b-4a04-ac40-7ae35a31def1",
   "metadata": {},
   "source": [
    "### Q5. State advantages and disadvantages of multithreading"
   ]
  },
  {
   "cell_type": "markdown",
   "id": "177e8d0c-6202-4162-a29f-2797bd303bca",
   "metadata": {},
   "source": [
    "Improved throughput. ...\n",
    "\n",
    "Simultaneous and fully symmetric use of multiple processors for computation and I/O.\n",
    "\n",
    "Superior application responsiveness. ...\n",
    "\n",
    "Improved server responsiveness. ...\n",
    "\n",
    "Minimized system resource usage. ...\n",
    "\n",
    "Program structure simplification. ...\n",
    "\n",
    "Better communication."
   ]
  },
  {
   "cell_type": "code",
   "execution_count": null,
   "id": "fbd5a11e-0ccd-42d6-8ffb-b654eb09cdae",
   "metadata": {},
   "outputs": [],
   "source": [
    "Q6. Explain deadlocks and race conditions."
   ]
  },
  {
   "cell_type": "markdown",
   "id": "aaea114e-15d9-466a-b010-d9c41b2096a6",
   "metadata": {},
   "source": [
    "Ans. Race conditions occur when two threads interact in a negatve (buggy) way depending on the exact order that their different instructions are executed."
   ]
  }
 ],
 "metadata": {
  "kernelspec": {
   "display_name": "Python 3 (ipykernel)",
   "language": "python",
   "name": "python3"
  },
  "language_info": {
   "codemirror_mode": {
    "name": "ipython",
    "version": 3
   },
   "file_extension": ".py",
   "mimetype": "text/x-python",
   "name": "python",
   "nbconvert_exporter": "python",
   "pygments_lexer": "ipython3",
   "version": "3.10.8"
  }
 },
 "nbformat": 4,
 "nbformat_minor": 5
}
