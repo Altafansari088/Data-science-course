{
 "cells": [
  {
   "cell_type": "markdown",
   "id": "6207dc01-8ba6-4b03-b5b3-2afc9dcc4884",
   "metadata": {},
   "source": [
    "### Q1. Which function is used to open a file? What are the different modes of opening a file? Explain each mode of file opening."
   ]
  },
  {
   "cell_type": "markdown",
   "id": "d8f371dc-66cd-4e98-b3af-e31cff1d7bf4",
   "metadata": {},
   "source": [
    "Ans.Open()function is used to open file "
   ]
  },
  {
   "cell_type": "markdown",
   "id": "7f88b7c2-125c-4850-b13f-6b0a13756769",
   "metadata": {},
   "source": [
    "Read Only (‘r’) : Open text file for reading. The handle is positioned at the beginning of the file. If the file does not exists, raises the I/O error. This is also the default mode in which a file is opened."
   ]
  },
  {
   "cell_type": "markdown",
   "id": "fe4ca513-5e5f-4b5f-b2ac-938d3b278fcd",
   "metadata": {},
   "source": [
    "Read and Write (‘r+’): Open the file for reading and writing. The handle is positioned at the beginning of the file. Raises I/O error if the file does not exist.\n"
   ]
  },
  {
   "cell_type": "markdown",
   "id": "c1f41505-2b95-4361-b964-9d17cd46fec3",
   "metadata": {},
   "source": [
    "## Q2. Why close() function is used? Why is it important to close a file?"
   ]
  },
  {
   "cell_type": "markdown",
   "id": "fdc3afb9-6900-4456-9536-aa81027abbd0",
   "metadata": {},
   "source": [
    "#### Ans The close() method closes an open file. You should always close your files, in some cases, due to buffering, changes made to a file may not show until you close the file."
   ]
  },
  {
   "cell_type": "markdown",
   "id": "a5ae4c7e-730a-4210-b201-fb6e307d5eae",
   "metadata": {},
   "source": [
    "## Q3. Write a python program to create a text file. Write ‘I want to become a Data Scientist’ in that file. Then close the file. Open this file and read the content of the file."
   ]
  },
  {
   "cell_type": "code",
   "execution_count": 1,
   "id": "0bad90ce-db0a-4499-aa26-c5774fa70894",
   "metadata": {},
   "outputs": [],
   "source": [
    "f = open(\"file.txt\", \"w\")\n",
    "f.write(\"i want to become a Data scientiset\")\n",
    "f.close()"
   ]
  },
  {
   "cell_type": "code",
   "execution_count": 2,
   "id": "44ed58a4-2828-4a1f-b25a-1f74d9d81262",
   "metadata": {},
   "outputs": [
    {
     "data": {
      "text/plain": [
       "'i want to become a Data scientiset'"
      ]
     },
     "execution_count": 2,
     "metadata": {},
     "output_type": "execute_result"
    }
   ],
   "source": [
    "f = open(\"file.txt\", \"r\")\n",
    "f.read()"
   ]
  },
  {
   "cell_type": "markdown",
   "id": "1fbe18d2-babe-4f1b-b521-bc8c253f80fe",
   "metadata": {},
   "source": [
    "## Q4. Explain the following with python code: read(), readline() and readlines()."
   ]
  },
  {
   "cell_type": "markdown",
   "id": "f1bb706c-8444-4083-96bb-8df129995fb6",
   "metadata": {},
   "source": [
    "The readlines() method returns a list containing each line in the file as a list item.\n",
    "\n",
    "Use the hint parameter to limit the number of lines returned. If the total number of bytes returned exceeds the specified number, no more lines are returned."
   ]
  },
  {
   "cell_type": "markdown",
   "id": "69cca564-f688-4ae7-bdff-fe87a6b58f05",
   "metadata": {},
   "source": [
    "The readline() method returns one line from the file.\n",
    "\n",
    "You can also specified how many bytes from the line to return, by using the size parameter."
   ]
  },
  {
   "cell_type": "markdown",
   "id": "175061b1-f829-4e3a-8fba-8d4f04a7fd51",
   "metadata": {},
   "source": [
    "The read() method returns the specified number of bytes from the file. Default is -1 which means the whole file."
   ]
  },
  {
   "cell_type": "markdown",
   "id": "0ebe086a-84e6-49d4-a371-8bd8e0994f1d",
   "metadata": {},
   "source": [
    "## Q5. Explain why with statement is used with open(). What is the advantage of using with statement and open() together?"
   ]
  },
  {
   "cell_type": "markdown",
   "id": "b043b81d-c28d-4685-9f4c-9268d326711b",
   "metadata": {},
   "source": [
    "Ans. In Python, with statement is used in exception handling to make the code cleaner and much more readable. It simplifies the management of common resources like file streams."
   ]
  },
  {
   "cell_type": "code",
   "execution_count": 3,
   "id": "cb39cf7c-7f08-4312-86c5-4a2dd6140cb7",
   "metadata": {},
   "outputs": [],
   "source": [
    "file = open('file_path', 'w')\n",
    "file.write('hello world !')\n",
    "file.close()\n",
    " \n",
    "file = open('file_path', 'w')\n",
    "try:\n",
    "    file.write('hello world')\n",
    "finally:\n",
    "    file.close()"
   ]
  },
  {
   "cell_type": "markdown",
   "id": "d5b9fe51-9c68-4d9e-8b04-a33ee1b8905a",
   "metadata": {},
   "source": [
    "## Q6. Explain the write() and writelines() functions. Give a suitable example."
   ]
  },
  {
   "cell_type": "markdown",
   "id": "8cf12649-6b67-4151-b32c-e7b05fc5c213",
   "metadata": {},
   "source": [
    "write() function\n",
    "The write() function will write the content in the file without adding any extra characters."
   ]
  },
  {
   "cell_type": "code",
   "execution_count": null,
   "id": "8e94bce7-66ab-422d-8b3f-b1d5c58ebf2b",
   "metadata": {},
   "outputs": [],
   "source": [
    "file = open(\"Employees.txt\", \"w\")\n",
    "  \n",
    "for i in range(3):\n",
    "   name = input(\"Enter the name of the employee: \")\n",
    "   file.write(name)\n",
    "   file.write(\"\\n\")\n",
    "     \n",
    "file.close()\n",
    "  \n",
    "print(\"Data is written into the file.\")"
   ]
  },
  {
   "cell_type": "markdown",
   "id": "0d95125d-e575-4a73-9189-367bf28e3893",
   "metadata": {},
   "source": [
    "writelines() function\n",
    "This function writes the content of a list to a file."
   ]
  },
  {
   "cell_type": "code",
   "execution_count": null,
   "id": "0bf49d5c-e45e-4563-b9bb-8abfae077a2b",
   "metadata": {},
   "outputs": [],
   "source": [
    "file1 = open(\"Employees.txt\", \"w\")\n",
    "lst = []\n",
    "for i in range(3):\n",
    "    name = input(\"Enter the name of the employee: \")\n",
    "    lst.append(name + '\\n')\n",
    "      \n",
    "file1.writelines(lst)\n",
    "file1.close()\n",
    "print(\"Data is written into the file.\") "
   ]
  },
  {
   "cell_type": "code",
   "execution_count": null,
   "id": "a6849744-2a3c-4356-9eac-b3bce3c4a324",
   "metadata": {},
   "outputs": [],
   "source": []
  },
  {
   "cell_type": "code",
   "execution_count": null,
   "id": "61d4b93a-f48c-49a3-8e7a-17003ced572e",
   "metadata": {},
   "outputs": [],
   "source": []
  }
 ],
 "metadata": {
  "kernelspec": {
   "display_name": "Python 3 (ipykernel)",
   "language": "python",
   "name": "python3"
  },
  "language_info": {
   "codemirror_mode": {
    "name": "ipython",
    "version": 3
   },
   "file_extension": ".py",
   "mimetype": "text/x-python",
   "name": "python",
   "nbconvert_exporter": "python",
   "pygments_lexer": "ipython3",
   "version": "3.10.8"
  }
 },
 "nbformat": 4,
 "nbformat_minor": 5
}
