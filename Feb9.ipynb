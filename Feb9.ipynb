{
 "cells": [
  {
   "cell_type": "markdown",
   "id": "f71416e0-717b-4946-b50e-3d8dfcd9d0c2",
   "metadata": {},
   "source": [
    "### Q1, Create a vehicle class with an init method having instance variables as name_of_vehicle, max_speed and average_of_vehicle."
   ]
  },
  {
   "cell_type": "code",
   "execution_count": 16,
   "id": "3dd81806-40f5-4a54-b667-b4600c2462d2",
   "metadata": {},
   "outputs": [
    {
     "name": "stdout",
     "output_type": "stream",
     "text": [
      "maruti\n"
     ]
    }
   ],
   "source": [
    "class Vehicle:\n",
    "    def __init__(self,name_of_vechicle,max_speed,average_of_vechile):\n",
    "        self.name_of_vechicle = name_of_vechicle\n",
    "        self.max_speed = max_speed\n",
    "        self.average_of_vechile = average_of_vechile\n",
    "        \n",
    "car_details = Vehicle(\"maruti\",140,20)        \n",
    "print(car_details.name_of_vechicle)"
   ]
  },
  {
   "cell_type": "markdown",
   "id": "ca8b9787-7c2e-4d3a-98a2-465db0cd8b22",
   "metadata": {},
   "source": [
    "#### Q2. Create a child class car from the vehicle class created in Que 1, which will inherit the vehicle class. Create a method named seating_capacity which takes capacity as an argument and returns the name of the vehicle and its seating capacity."
   ]
  },
  {
   "cell_type": "code",
   "execution_count": 32,
   "id": "98e558e8-3942-4ad4-82af-2a1a292d30d2",
   "metadata": {},
   "outputs": [
    {
     "name": "stdout",
     "output_type": "stream",
     "text": [
      "alto\n"
     ]
    }
   ],
   "source": [
    "class Upgrade(Vehicle):\n",
    "    def det(self,seating_capacity):  \n",
    "        self.seating_capacity = seating_capacity\n",
    "\n",
    "    def All_details(self):\n",
    "        return self.seating_capacity\n",
    "    \n",
    "seating = Upgrade(\"alto\",200,15)\n",
    "print(seating.name_of_vechicle)"
   ]
  },
  {
   "cell_type": "markdown",
   "id": "8e7a4555-17bf-4949-9fba-aac9899c0f5d",
   "metadata": {},
   "source": [
    "### Q3. What is multiple inheritance? Write a python code to demonstrate multiple inheritance."
   ]
  },
  {
   "cell_type": "markdown",
   "id": "4b955619-6fa1-4a89-903c-71bcce9a04c8",
   "metadata": {},
   "source": [
    "##### Ans.When a class is derived from more than one base class it is called multiple Inheritance. "
   ]
  },
  {
   "cell_type": "code",
   "execution_count": 36,
   "id": "e00031fc-a9f4-454f-9db9-22325a65828f",
   "metadata": {},
   "outputs": [],
   "source": [
    "class Mammal:\n",
    "    def mammal_info(self):\n",
    "        print(\"Mammals can give direct birth.\")\n",
    "\n",
    "class WingedAnimal:\n",
    "    def winged_animal_info(self):\n",
    "        print(\"Winged animals can flap.\")\n",
    "\n",
    "class Bat(Mammal, WingedAnimal):\n",
    "    pass\n"
   ]
  },
  {
   "cell_type": "markdown",
   "id": "3693440a-400a-4c8c-8544-7f5958a1eba5",
   "metadata": {},
   "source": [
    "### Q4. What are getter and setter in python? Create a class and create a getter and a setter method in this class."
   ]
  },
  {
   "cell_type": "markdown",
   "id": "e1070ace-4443-45c0-8a03-86740dc9e67c",
   "metadata": {},
   "source": [
    "#### Ans.Getters: These are the methods used in Object-Oriented Programming (OOPS) which helps to access the private attributes from a class.\n",
    "\n",
    "\n",
    "\n",
    "#### Setters: These are the methods used in OOPS feature which helps to set the value to private attributes in a class."
   ]
  },
  {
   "cell_type": "code",
   "execution_count": 37,
   "id": "8f312d3e-e0c6-4dbf-8f19-a7f364cf6288",
   "metadata": {},
   "outputs": [],
   "source": [
    "class SampleClass:\n",
    "\n",
    "    def __init__(self, a):\n",
    "        self.__a = a\n",
    "\n",
    "    def get_a(self):\n",
    "        return self.__a\n",
    "    \n",
    "    def set_a(self, a):\n",
    "        self.__a = a"
   ]
  },
  {
   "cell_type": "markdown",
   "id": "177fa4c6-d579-4a76-8a21-c4e5cbb7502a",
   "metadata": {},
   "source": [
    "## Q5.What is method overriding in python? Write a python code to demonstrate method overriding."
   ]
  },
  {
   "cell_type": "markdown",
   "id": "5d9d86f5-0834-4d90-8046-a114c68094bb",
   "metadata": {},
   "source": [
    "#### Ans.Method overriding is a feature of object-oriented programming languages where the subclass or child class can provide the program with specific characteristics or a specific implementation process of data provided that are already defined in the parent class or superclass."
   ]
  },
  {
   "cell_type": "code",
   "execution_count": null,
   "id": "01abcbcc-5081-44b2-bc48-a45c952a5f9b",
   "metadata": {},
   "outputs": [],
   "source": [
    "class Point:\n",
    "    def __init__(self, x=0, y=0):\n",
    "        self.x = x\n",
    "        self.y = y\n",
    "\n",
    "    def __str__(self):\n",
    "        return \"({0},{1})\".format(self.x, self.y)\n",
    "\n",
    "    def __add__(self, other):\n",
    "        x = self.x + other.x\n",
    "        y = self.y + other.y\n",
    "        return Point(x, y)\n",
    "p1 = Point(1, 2)\n",
    "p2 = Point(2, 3)\n",
    "\n",
    "print(p1+p2)\n"
   ]
  },
  {
   "cell_type": "code",
   "execution_count": null,
   "id": "8ae6adc9-5ac1-483a-89de-ed5508b2b991",
   "metadata": {},
   "outputs": [],
   "source": []
  },
  {
   "cell_type": "code",
   "execution_count": null,
   "id": "60c3dd25-9d66-4780-ae38-d209e2bc5ee4",
   "metadata": {},
   "outputs": [],
   "source": []
  }
 ],
 "metadata": {
  "kernelspec": {
   "display_name": "Python 3 (ipykernel)",
   "language": "python",
   "name": "python3"
  },
  "language_info": {
   "codemirror_mode": {
    "name": "ipython",
    "version": 3
   },
   "file_extension": ".py",
   "mimetype": "text/x-python",
   "name": "python",
   "nbconvert_exporter": "python",
   "pygments_lexer": "ipython3",
   "version": "3.10.8"
  }
 },
 "nbformat": 4,
 "nbformat_minor": 5
}
