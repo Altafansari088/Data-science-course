{
 "cells": [
  {
   "cell_type": "markdown",
   "id": "19f59662-c998-4509-9e30-5e8760807610",
   "metadata": {},
   "source": [
    "### Q1. What is a database? Differentiate between SQL and NoSQL databases."
   ]
  },
  {
   "cell_type": "markdown",
   "id": "8364f436-16b8-46c3-835e-2dda5bc008ee",
   "metadata": {},
   "source": [
    "Ans.A relational database stores information in tabular form, with rows and columns representing different data attributes and the various relationships between the data values."
   ]
  },
  {
   "cell_type": "markdown",
   "id": "26c05147-8f76-49ff-a5db-b0aa9ffd216f",
   "metadata": {},
   "source": [
    "MySQL is a relational database that is based on tabular design whereas NoSQL is non-relational in nature with its document-based design. MySQL has established a database, covering huge IT market whereas NoSQL databases are the latest arrival, hence still gaining popularity among big IT giants."
   ]
  },
  {
   "cell_type": "markdown",
   "id": "90fbe9c9-8f62-4834-b805-10e729e7a57e",
   "metadata": {},
   "source": [
    "### Q2. What is DDL? Explain why CREATE, DROP, ALTER, and TRUNCATE are used with an example."
   ]
  },
  {
   "cell_type": "markdown",
   "id": "17236722-766e-4f69-a121-8d58b8e26d5b",
   "metadata": {},
   "source": [
    "Data Definition Language (DDL) is a subset of SQL. It is a language for describing data and its relationships in a database. "
   ]
  },
  {
   "cell_type": "markdown",
   "id": "16509690-88cd-447b-9112-f8eb00d36f5c",
   "metadata": {},
   "source": [
    "CREATE :\n",
    "This command is used to create a new table in SQL. The user has to give information like table name, column names, and their datatypes.\n",
    "\n",
    "\n",
    "EX. \n",
    "CREATE TABLE table_name\n",
    "(\n",
    "column_1 datatype,\n",
    "column_2 datatype,\n",
    "column_3 datatype,\n",
    "....\n",
    ");"
   ]
  },
  {
   "cell_type": "markdown",
   "id": "c31fe90c-4ace-44c9-91d3-5ea4b898e27f",
   "metadata": {},
   "source": [
    "ALTER :\n",
    "This command is used to add, delete or change columns in the existing table. The user needs to know the existing table name and can do add, delete or modify tasks easily.\n",
    "\n",
    "\n",
    "EXAMPLE      ALTER TABLE table_name\n",
    "\n",
    "        ADD column_name datatype;"
   ]
  },
  {
   "cell_type": "markdown",
   "id": "6e3b2997-7ab4-489a-94b3-c949c391796e",
   "metadata": {},
   "source": [
    "TRUNCATE :\n",
    "This command is used to remove all rows from the table, but the structure of the table still exists.\n",
    "\n",
    "EXAMPLE TRUNCATE TABLE table_name;"
   ]
  },
  {
   "cell_type": "markdown",
   "id": "fbc96345-fbb1-4758-9cf1-0777ad01ed8f",
   "metadata": {},
   "source": [
    "DROP :\n",
    "This command is used to remove an existing table along with its structure from the Database.\n",
    "\n",
    "EXAMPLE. DROP TABLE table_name;"
   ]
  },
  {
   "cell_type": "markdown",
   "id": "6b48ae2a-f134-4342-92f6-bd4d0a01859f",
   "metadata": {},
   "source": [
    "### Q3. What is DML? Explain INSERT, UPDATE, and DELETE with an example."
   ]
  },
  {
   "cell_type": "markdown",
   "id": "42b2216e-6738-4b1c-b57c-fff33c91caa3",
   "metadata": {},
   "source": [
    "Ans. DML is an abbreviation for Data Manipulation Language. Represents a collection of programming languages explicitly used to make changes to the database, such as:"
   ]
  },
  {
   "cell_type": "markdown",
   "id": "8c45bdc2-099e-481e-a6f9-4324dd60f0f2",
   "metadata": {},
   "source": [
    "INSERT: command to add new or new value to the database\n",
    "\n",
    "UPDATE: command to change or update current/existing data to a more recent value within the database\n",
    "\n",
    "DELETE: command to delete or delete the values or data information of the current table in the database"
   ]
  },
  {
   "cell_type": "code",
   "execution_count": null,
   "id": "5b8cec14-2be6-4fb2-b54c-ead4dc2d0f16",
   "metadata": {},
   "outputs": [],
   "source": [
    "Insert into <table_name> (column list) values (column values);"
   ]
  },
  {
   "cell_type": "code",
   "execution_count": null,
   "id": "5d2db9af-66cb-43fd-ad97-b0e2d8d6a3e3",
   "metadata": {},
   "outputs": [],
   "source": [
    "UPDATE <table_name> SET column_number =value_number WHERE condition;"
   ]
  },
  {
   "cell_type": "code",
   "execution_count": null,
   "id": "05d2c13d-1952-482f-9958-8e9035c15573",
   "metadata": {},
   "outputs": [],
   "source": [
    " Delete from <table_name>WHERE condition;"
   ]
  },
  {
   "cell_type": "markdown",
   "id": "0aa1d48a-3e48-4064-8a21-fbef205f0aa7",
   "metadata": {},
   "source": [
    "### Q4. What is SQL? Explain SELECT with an example."
   ]
  },
  {
   "cell_type": "markdown",
   "id": "6476824f-3c21-463a-8012-3ccbb6f6e311",
   "metadata": {},
   "source": [
    "Ans. Structured Query Language (SQL) refers to a standard programming language utilized to extract, organize, manage, and manipulate data stored in relational databases"
   ]
  },
  {
   "cell_type": "code",
   "execution_count": null,
   "id": "014423aa-3aae-49a7-9860-d0da31867b2b",
   "metadata": {},
   "outputs": [],
   "source": [
    "SELECT CustomerName, City FROM Customers;"
   ]
  },
  {
   "cell_type": "markdown",
   "id": "580b8179-86fc-4d04-8956-f4331d653956",
   "metadata": {},
   "source": [
    "### Q5. Explain Primary Key and Foreign Key."
   ]
  },
  {
   "cell_type": "markdown",
   "id": "b64b8526-da05-4acc-802b-d304a4e5fda5",
   "metadata": {},
   "source": [
    "Primary Key: A primary key is used to ensure that data in the specific column is unique. A column cannot have NULL values. It is either an existing table column or a column that is specifically generated by the database according to a defined sequence. "
   ]
  },
  {
   "cell_type": "markdown",
   "id": "1dc43efa-7e91-4714-8497-48a3bd013907",
   "metadata": {},
   "source": [
    "A foreign key is a column or group of columns in a relational database table that provides a link between data in two tables. It is a column (or columns) that references a column (most often the primary key) of another table. "
   ]
  },
  {
   "cell_type": "markdown",
   "id": "a12b6938-1093-416d-aa36-b945fa1d9a47",
   "metadata": {},
   "source": [
    "### Q6. Write a python code to connect MySQL to python. Explain the cursor() and execute() method."
   ]
  },
  {
   "cell_type": "markdown",
   "id": "c34d2cc7-4a8e-4d65-8fd1-37bbbc29ee4f",
   "metadata": {},
   "source": [
    "execute()\n",
    "\n",
    "This method accepts a MySQL query as a parameter and executes the given query."
   ]
  },
  {
   "cell_type": "markdown",
   "id": "fedad574-17f0-4cab-a67c-3ef8e82c805c",
   "metadata": {},
   "source": [
    "cursor()\n",
    "\n",
    "Use the cursor() method of a MySQLConnection object to create a cursor object to perform various SQL operations."
   ]
  },
  {
   "cell_type": "code",
   "execution_count": null,
   "id": "7a409dd5-16c0-4a40-bf76-301ff2b67a18",
   "metadata": {},
   "outputs": [],
   "source": [
    "import mysql.connector\n",
    "  \n",
    "dataBase = mysql.connector.connect(\n",
    "  host =\"localhost\",\n",
    "  user =\"user\",\n",
    "  passwd =\"password\"\n",
    ")\n",
    " \n",
    "cursorObject = dataBase.cursor()\n",
    " \n",
    "cursorObject.execute(\"CREATE DATABASE gfg\")"
   ]
  },
  {
   "cell_type": "markdown",
   "id": "d8598c6b-2808-484b-878d-83f3b0213af4",
   "metadata": {},
   "source": [
    "### Q7. Give the order of execution of SQL clauses in an SQL query."
   ]
  },
  {
   "cell_type": "markdown",
   "id": "5e454da4-d1ef-4113-b3f8-cf1b8b8899d6",
   "metadata": {},
   "source": [
    "Ans. SQL's from clause selects and joins your tables and is the first executed part of a query. This means that in queries with joins, the join is the first thing to happen. It's a good practice to limit or pre-aggregate tables before potentially large joins, which can otherwise be very memory intensive.\n"
   ]
  }
 ],
 "metadata": {
  "kernelspec": {
   "display_name": "Python 3 (ipykernel)",
   "language": "python",
   "name": "python3"
  },
  "language_info": {
   "codemirror_mode": {
    "name": "ipython",
    "version": 3
   },
   "file_extension": ".py",
   "mimetype": "text/x-python",
   "name": "python",
   "nbconvert_exporter": "python",
   "pygments_lexer": "ipython3",
   "version": "3.10.8"
  }
 },
 "nbformat": 4,
 "nbformat_minor": 5
}
