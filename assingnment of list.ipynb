{
 "cells": [
  {
   "cell_type": "markdown",
   "id": "fa2e1f7e-117e-4a8e-8780-eb24765944d9",
   "metadata": {},
   "source": [
    "# Q1. What are the characteristics of the tuples? Is tuple immutable?"
   ]
  },
  {
   "cell_type": "markdown",
   "id": "d76155fe-5aef-42f6-ba27-c3eb9008f58c",
   "metadata": {},
   "source": [
    "### Ans.Tuples are immutable. Hence they are primarily used to store data that doesn't change frequently. Any operation can store data in a tuple when you don't want it to change. Tuples are great to use if you want the data in your collection to be read-only, never to change, and always remain the same and constant"
   ]
  },
  {
   "cell_type": "markdown",
   "id": "c0c5870f-0f47-4bd2-8012-8565681624aa",
   "metadata": {},
   "source": [
    "# Q2. What are the two tuple methods in python? Give an example of each method. Give a reason whytuples have only two in-built methods as compared to Lists."
   ]
  },
  {
   "cell_type": "markdown",
   "id": "13fc32dc-41fa-4115-ae87-b183bd87623a",
   "metadata": {},
   "source": [
    "Ans.Python Tuples is an immutable collection of that are more like lists. Python Provides a couple of methods to work with tuples. and two types of methods tuple are: 1.The count() method of Tuple returns the number of times the given element appears in the tuple.     2.The Index() method returns the first occurrence of the given element from the tuple.\n",
    "\n"
   ]
  },
  {
   "cell_type": "markdown",
   "id": "9e77c034-0ccf-4bdf-9de4-eef326366d7f",
   "metadata": {},
   "source": [
    "# Q3. Which collection datatypes in python do not allow duplicate items? Write a code using a set to remove\n",
    "# duplicates from the given list.\n",
    "# List = [1, 1, 1, 2, 1, 3, 1, 4, 2, 1, 2, 2, 2, 3, 2, 4, 3, 1, 3, 2, 3, 3, 3, 4, 4, 1, 4, 2, 4, 3, 4, 4]"
   ]
  },
  {
   "cell_type": "markdown",
   "id": "4fe693bc-a9b3-42bb-b28b-ab4b655bba9a",
   "metadata": {},
   "source": [
    " Ans. we have to do in set datatypes"
   ]
  },
  {
   "cell_type": "markdown",
   "id": "2d0aed42-874e-4a9b-9382-88d4c6eabdb3",
   "metadata": {},
   "source": [
    "# Q4. Explain the difference between the union() and update() methods for a set. Give an example of  each method."
   ]
  },
  {
   "cell_type": "markdown",
   "id": "6efa7487-e580-4ab8-b1ea-9c857b4d631e",
   "metadata": {},
   "source": [
    "Ans. update() adds all missing elements to the set on which it is called whereas set. \n",
    " union() creates a new set. Consequently, the return value of set."
   ]
  },
  {
   "cell_type": "markdown",
   "id": "cd91b7b5-5781-4c8b-9539-32e609328336",
   "metadata": {},
   "source": [
    "# Q5. What is a dictionary? Give an example. Also, state whether a dictionary is ordered or unordered."
   ]
  },
  {
   "cell_type": "markdown",
   "id": "141328ff-6e59-41bc-9d02-4ab00dd12a15",
   "metadata": {},
   "source": [
    "Ans.The dictionary is an unordered collection that contains key:value pairs separated by commas inside curly brackets. Dictionaries are optimized to retrieve values when the key is known. The following declares a dictionary object. Example: Dictionary.\n"
   ]
  },
  {
   "cell_type": "markdown",
   "id": "b9cc23cc-2ecf-4c3e-beee-57c5864c3143",
   "metadata": {},
   "source": [
    "# Q6. Can we create a nested dictionary? If so, please give an example by creating a simple one-level nested dictionary."
   ]
  },
  {
   "cell_type": "markdown",
   "id": "2ed328b4-380b-4631-a74a-abde3af47ab6",
   "metadata": {},
   "source": [
    "Ans. yes, we can create a nested dictionary. Example of Nested Dict = { 'Dict1': {'name': 'Ali', 'age': '19'},\n",
    "         'Dict2': {'name': 'Bob', 'age': '25'}}"
   ]
  },
  {
   "cell_type": "markdown",
   "id": "108b86f8-197e-4da2-b3f5-29a565b76383",
   "metadata": {},
   "source": [
    "# Q7. Using setdefault() method, create key named topics in the given dictionary and also add the value of\n",
    "# the key as this list ['Python', 'Machine Learning’, 'Deep Learning']\n",
    "# dict1 = {'language' : 'Python', 'course': 'Data Science Masters'}"
   ]
  },
  {
   "cell_type": "code",
   "execution_count": 8,
   "id": "fc54b48a-625b-4669-8226-d312f82bff28",
   "metadata": {},
   "outputs": [
    {
     "name": "stdout",
     "output_type": "stream",
     "text": [
      "['pyhton', 'machine learning', 'Deep learning']\n"
     ]
    }
   ],
   "source": [
    "dict1 = {'language' : 'Python', 'course': 'Data Science Masters'}\n",
    "dict2=dict1.setdefault(\"topics\",[\"pyhton\",\"machine learning\",\"Deep learning\"])\n",
    "print(dict2)"
   ]
  },
  {
   "cell_type": "code",
   "execution_count": 9,
   "id": "9a117f15-f88f-4420-a67b-993fca775e7a",
   "metadata": {},
   "outputs": [
    {
     "name": "stdout",
     "output_type": "stream",
     "text": [
      "{'language': 'Python', 'course': 'Data Science Masters', 'topics': ['pyhton', 'machine learning', 'Deep learning']}\n"
     ]
    }
   ],
   "source": [
    "print (dict1)"
   ]
  },
  {
   "cell_type": "markdown",
   "id": "f08c37da-509b-4a2e-bccf-3888cd0a7732",
   "metadata": {},
   "source": [
    "# Q8. What are the three view objects in dictionaries? Use the three in-built methods in python to displaythese three view objects for the given dictionary.\n",
    "# dict1 = {'Sport': 'Cricket' , 'Teams': ['India', 'Australia', 'England', 'South Africa', 'Sri Lanka', 'New Zealand']}"
   ]
  },
  {
   "cell_type": "code",
   "execution_count": null,
   "id": "d89709af-a8b3-4ed8-9be8-8fb0f9506731",
   "metadata": {},
   "outputs": [],
   "source": [
    "Ans.The three  main view of objects of dictionary in python are keys, values and items."
   ]
  },
  {
   "cell_type": "code",
   "execution_count": 19,
   "id": "f8059dfe-8c95-46ca-85e8-fd0173e0ad6c",
   "metadata": {},
   "outputs": [
    {
     "name": "stdout",
     "output_type": "stream",
     "text": [
      "dict_values(['Cricket', ['India', 'Australia', 'England', 'South Africa', 'Sri Lanka', 'New Zealand']])\n"
     ]
    }
   ],
   "source": [
    "dict1 = {'Sport': 'Cricket' , 'Teams': ['India', 'Australia', 'England', 'South Africa', 'Sri Lanka', 'New Zealand']}\n",
    "dict2=dict1.values()\n",
    "print(dict2)"
   ]
  },
  {
   "cell_type": "code",
   "execution_count": 20,
   "id": "be224d32-c538-4507-8949-0310429c2ec0",
   "metadata": {},
   "outputs": [
    {
     "name": "stdout",
     "output_type": "stream",
     "text": [
      "dict_keys(['Sport', 'Teams'])\n"
     ]
    }
   ],
   "source": [
    "dict1 = {'Sport': 'Cricket' , 'Teams': ['India', 'Australia', 'England', 'South Africa', 'Sri Lanka', 'New Zealand']}\n",
    "dict2=dict1.keys()\n",
    "print(dict2)"
   ]
  },
  {
   "cell_type": "code",
   "execution_count": 21,
   "id": "115bd5df-91a2-41fb-8a43-0ca4adf3efa3",
   "metadata": {},
   "outputs": [
    {
     "name": "stdout",
     "output_type": "stream",
     "text": [
      "dict_items([('Sport', 'Cricket'), ('Teams', ['India', 'Australia', 'England', 'South Africa', 'Sri Lanka', 'New Zealand'])])\n"
     ]
    }
   ],
   "source": [
    "dict1 = {'Sport': 'Cricket' , 'Teams': ['India', 'Australia', 'England', 'South Africa', 'Sri Lanka', 'New Zealand']}\n",
    "dict2=dict1.items()\n",
    "print(dict2)"
   ]
  }
 ],
 "metadata": {
  "kernelspec": {
   "display_name": "Python 3 (ipykernel)",
   "language": "python",
   "name": "python3"
  },
  "language_info": {
   "codemirror_mode": {
    "name": "ipython",
    "version": 3
   },
   "file_extension": ".py",
   "mimetype": "text/x-python",
   "name": "python",
   "nbconvert_exporter": "python",
   "pygments_lexer": "ipython3",
   "version": "3.10.8"
  }
 },
 "nbformat": 4,
 "nbformat_minor": 5
}
