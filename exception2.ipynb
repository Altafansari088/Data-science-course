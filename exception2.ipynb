{
 "cells": [
  {
   "cell_type": "markdown",
   "id": "46656280-343d-4cea-a2e1-bb39c1d1a50b",
   "metadata": {},
   "source": [
    "## Q1. Explain why we have to use the Exception class while creating a Custom Exception."
   ]
  },
  {
   "cell_type": "markdown",
   "id": "7246d6de-20e7-4913-bd2e-649cf0433118",
   "metadata": {},
   "source": [
    "Built-in exceptions offer information about Python-related problems, and custom exceptions will add information about project-related problems."
   ]
  },
  {
   "cell_type": "markdown",
   "id": "4372f7b9-2d12-4c0a-8cc2-81d5632e56ee",
   "metadata": {},
   "source": [
    "## Q2. Write a python program to print Python Exception Hierarchy."
   ]
  },
  {
   "cell_type": "code",
   "execution_count": null,
   "id": "54d37984-ca49-4d88-9ebc-73a121f56487",
   "metadata": {},
   "outputs": [],
   "source": [
    "import inspect\n",
    "def treeClass(cls, ind = 0):\n",
    "    print ('-' * ind, cls.__name__)\n",
    "    for i in cls.__subclasses__():\n",
    "  \n",
    "print(\"Hierarchy for Built-in exceptions is : \")"
   ]
  },
  {
   "cell_type": "markdown",
   "id": "a5b23f1a-8519-4c28-afc2-db467552b8ed",
   "metadata": {},
   "source": [
    "## Q3. What errors are defined in the ArithmeticError class? Explain any two with an example."
   ]
  },
  {
   "cell_type": "markdown",
   "id": "ef2c206e-c82b-4467-a96a-e055b0dba3a5",
   "metadata": {},
   "source": [
    "Ans.The arithmetic error occurs when an error is encountered during numeric calculations in Python.\n",
    "1. Zerodivision error ---->  like 10/0\n",
    "2. typeerror     ----> int(\"pwskills\")"
   ]
  },
  {
   "cell_type": "markdown",
   "id": "49047988-af48-426f-82b0-8a47d2b037d0",
   "metadata": {},
   "source": [
    "## Q4. Why LookupError class is used? Explain with an example KeyError and IndexError."
   ]
  },
  {
   "cell_type": "markdown",
   "id": "bbfce462-f7aa-4ab6-8c72-3e9f2e0be232",
   "metadata": {},
   "source": [
    "Ans. Whereas the IndexError is raised when trying to access an invalid index within a list , the KeyError is raised when accessing an invalid key within a dict"
   ]
  },
  {
   "cell_type": "markdown",
   "id": "b4eec434-052c-4f5c-a311-ba1a48741569",
   "metadata": {},
   "source": [
    "## Q5. Explain ImportError. What is ModuleNotFoundError?"
   ]
  },
  {
   "cell_type": "markdown",
   "id": "a946a879-c7f8-443c-bd6f-2a090dae65c4",
   "metadata": {},
   "source": [
    "Ans. ImportError occurs when the Python program tries to import module which does not exist in the private table. and  this error occurs when you're trying to access or use a module that cannot be found."
   ]
  },
  {
   "cell_type": "markdown",
   "id": "23df4986-114d-449b-bc4b-e1d1deb80cf3",
   "metadata": {},
   "source": [
    "## Q6. List down some best practices for exception handling in python."
   ]
  },
  {
   "cell_type": "markdown",
   "id": "be423144-9c2b-4105-8545-39ac9a1e78de",
   "metadata": {},
   "source": [
    "Ans. the best practice is to raise the most specific exception close to your problem."
   ]
  },
  {
   "cell_type": "code",
   "execution_count": null,
   "id": "20266e43-62b6-48d5-b070-2c44b55619da",
   "metadata": {},
   "outputs": [],
   "source": [
    "try:\n",
    "    x = int(input(\"Please enter a number: \"))\n",
    "    y = 100 / x\n",
    "except ValueError:\n",
    "    print(\"Error: there was an error\")\n",
    "except ZeroDivisionError:\n",
    "    print(\"Error: 0 is an invalid number\")\n",
    "except Exception:\n",
    "    print(\"Error: another error occurred\")\n",
    "finally:\n",
    "    print(\"Cleanup can go here\")"
   ]
  },
  {
   "cell_type": "code",
   "execution_count": null,
   "id": "70a35efc-7949-4b71-bfbb-bdd1a1972af1",
   "metadata": {},
   "outputs": [],
   "source": []
  },
  {
   "cell_type": "code",
   "execution_count": null,
   "id": "09735163-cd7f-4f01-a139-4fa14bdd91fd",
   "metadata": {},
   "outputs": [],
   "source": []
  }
 ],
 "metadata": {
  "kernelspec": {
   "display_name": "Python 3 (ipykernel)",
   "language": "python",
   "name": "python3"
  },
  "language_info": {
   "codemirror_mode": {
    "name": "ipython",
    "version": 3
   },
   "file_extension": ".py",
   "mimetype": "text/x-python",
   "name": "python",
   "nbconvert_exporter": "python",
   "pygments_lexer": "ipython3",
   "version": "3.10.8"
  }
 },
 "nbformat": 4,
 "nbformat_minor": 5
}
