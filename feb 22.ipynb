{
 "cells": [
  {
   "cell_type": "code",
   "execution_count": null,
   "id": "25d6f2f6-1aa5-4eb3-8d14-55f3f2b6f222",
   "metadata": {},
   "outputs": [],
   "source": [
    "import csv\n",
    "import requests\n",
    "from bs4 import BeautifulSoup\n",
    "\n",
    "# Send a GET request to the YouTube page\n",
    "url = \"https://www.youtube.com/@PW-Foundation/videos\"\n",
    "response = requests.get(url)\n",
    "\n",
    "# Create a BeautifulSoup object to parse the HTML content\n",
    "soup = BeautifulSoup(response.content, \"html.parser\")\n",
    "\n",
    "# Extract video URLs of the first five videos\n",
    "video_urls = []\n",
    "video_links = soup.select(\"a#video-title\")\n",
    "for link in video_links[:5]:\n",
    "    video_urls.append(\"https://www.youtube.com\" + link[\"href\"])\n",
    "\n",
    "# Extract video thumbnails URLs of the first five videos\n",
    "thumbnail_urls = []\n",
    "thumbnail_links = soup.select(\"a#thumbnail\")\n",
    "for link in thumbnail_links[:5]:\n",
    "    thumbnail_urls.append(link[\"href\"])\n",
    "\n",
    "# Extract titles of the first five videos\n",
    "titles = []\n",
    "for link in video_links[:5]:\n",
    "    titles.append(link[\"title\"])\n",
    "\n",
    "# Extract number of views of the first five videos\n",
    "views = []\n",
    "view_elements = soup.select(\"span.style-scope.ytd-grid-video-renderer span.ytd-grid-video-renderer\")\n",
    "for element in view_elements[:5]:\n",
    "    views.append(element.get_text())\n",
    "\n",
    "# Extract time of posting of the first five videos\n",
    "post_times = []\n",
    "time_elements = soup.select(\"span.style-scope.ytd-grid-video-renderer span.ytd-thumbnail-overlay-time-status-renderer\")\n",
    "for element in time_elements[:5]:\n",
    "    post_times.append(element.get_text())\n",
    "\n",
    "# Save the scraped data in a CSV file\n",
    "with open(\"youtube_data.csv\", \"w\", newline=\"\") as file:\n",
    "    writer = csv.writer(file)\n",
    "    writer.writerow([\"Video URL\", \"Thumbnail URL\", \"Title\", \"Views\", \"Post Time\"])\n",
    "    for i in range(5):\n",
    "        writer.writerow([video_urls[i], thumbnail_urls[i], titles[i], views[i], post_times[i]])\n"
   ]
  }
 ],
 "metadata": {
  "kernelspec": {
   "display_name": "Python 3 (ipykernel)",
   "language": "python",
   "name": "python3"
  },
  "language_info": {
   "codemirror_mode": {
    "name": "ipython",
    "version": 3
   },
   "file_extension": ".py",
   "mimetype": "text/x-python",
   "name": "python",
   "nbconvert_exporter": "python",
   "pygments_lexer": "ipython3",
   "version": "3.10.8"
  }
 },
 "nbformat": 4,
 "nbformat_minor": 5
}
