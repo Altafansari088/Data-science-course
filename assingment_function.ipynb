{
 "cells": [
  {
   "cell_type": "markdown",
   "id": "9adb9c24-c295-4c2b-8aa3-a9188adf8a02",
   "metadata": {},
   "source": [
    "# Q1. Which keyword is used to create a function? Create a function to return a list of odd numbers in the range of 1 to 25."
   ]
  },
  {
   "cell_type": "code",
   "execution_count": 46,
   "id": "346b532d-8b7d-4743-9b7c-bee2ebc1a9d1",
   "metadata": {},
   "outputs": [],
   "source": [
    "def odd_no():\n",
    "    sum=[]\n",
    "    for i in range(1,25):\n",
    "        if i%2 != 0 :\n",
    "            sum += i\n",
    "            sum.append(i)\n",
    "        return n\n",
    "         "
   ]
  },
  {
   "cell_type": "markdown",
   "id": "7787cd13-b163-41e8-8083-b7f8d4d55ef9",
   "metadata": {},
   "source": [
    "# Q2. Why *args and **kwargs is used in some functions? Create a function each for *args and **kwargs to demonstrate their use."
   ]
  },
  {
   "cell_type": "markdown",
   "id": "9cf9c6c1-8e02-4ebc-92be-ca43c530f0be",
   "metadata": {},
   "source": [
    "Ans. we can pass a variable number of argumrnts to a function using."
   ]
  },
  {
   "cell_type": "code",
   "execution_count": 18,
   "id": "435b70a5-6650-4a2a-bb9c-d23c8667d26f",
   "metadata": {},
   "outputs": [],
   "source": [
    "def myfun(*args):\n",
    "    for arg in args:\n",
    "        print(arg)"
   ]
  },
  {
   "cell_type": "code",
   "execution_count": 19,
   "id": "8ef2fb91-01d8-41c3-ae32-f26b987d65bf",
   "metadata": {},
   "outputs": [],
   "source": [
    "def myfun2(**args):\n",
    "    for key, value in args.items():\n",
    "        print((key,value))"
   ]
  },
  {
   "cell_type": "markdown",
   "id": "30f1ac6e-5ef7-4306-8d6d-85a4c8fd385a",
   "metadata": {},
   "source": [
    "# Q3. What is an iterator in python? Name the method used to initialise the iterator object and the method used for iteration. Use these methods to print the first five elements of the given list [2, 4, 6, 8, 10, 12, 14, 16, 18, 20]."
   ]
  },
  {
   "cell_type": "code",
   "execution_count": null,
   "id": "408c2ecc-9a8b-41bd-aff2-c3f11e7f4c62",
   "metadata": {},
   "outputs": [],
   "source": [
    "Ans. Iter() will give an iterator and use next() to iterater over iterables such as list, tuple"
   ]
  },
  {
   "cell_type": "code",
   "execution_count": null,
   "id": "9717c29c-9b55-46ae-b9f8-2879971d9bf7",
   "metadata": {},
   "outputs": [],
   "source": [
    "l=[2, 4, 6, 8, 10, 12, 14, 16, 18, 20]\n",
    "a=iter(l)\n",
    "for i in range(5):\n",
    "    print(next(a))"
   ]
  },
  {
   "cell_type": "markdown",
   "id": "e02224e4-f404-40b1-bfb9-56b8d21d8e75",
   "metadata": {},
   "source": [
    "# Q4. What is a generator function in python? Why yield keyword is used? Give an example of a generator function."
   ]
  },
  {
   "cell_type": "markdown",
   "id": "d2ecedc2-b065-4057-b90c-19fe459161a7",
   "metadata": {},
   "source": [
    "Ans Generators are useful when we want to produce a large sequence of values, but we don't want to store all of them in memory at  once yield keyword is used to create a generator function"
   ]
  },
  {
   "cell_type": "code",
   "execution_count": null,
   "id": "482dbee4-9287-4f5c-88dd-d4db11f89919",
   "metadata": {},
   "outputs": [],
   "source": [
    "def gen_func(x):\n",
    "    for i in range(x):\n",
    "        yield i"
   ]
  },
  {
   "cell_type": "markdown",
   "id": "c43a5f73-fba2-441b-add7-d0136d1fac8b",
   "metadata": {},
   "source": [
    "# Q5. Write a Python function that takes a number as a parameter and check the number is prime or not"
   ]
  },
  {
   "cell_type": "code",
   "execution_count": null,
   "id": "200b4dde-d880-467d-89bd-7d17c314645a",
   "metadata": {},
   "outputs": [],
   "source": [
    "def test_prime(n):\n",
    "    if (n==1):\n",
    "        return False\n",
    "    elif (n==2):\n",
    "        return True;\n",
    "    else:\n",
    "        for x in range(2,n):\n",
    "            if(n % x==0):\n",
    "                return False\n",
    "        return True "
   ]
  }
 ],
 "metadata": {
  "kernelspec": {
   "display_name": "Python 3 (ipykernel)",
   "language": "python",
   "name": "python3"
  },
  "language_info": {
   "codemirror_mode": {
    "name": "ipython",
    "version": 3
   },
   "file_extension": ".py",
   "mimetype": "text/x-python",
   "name": "python",
   "nbconvert_exporter": "python",
   "pygments_lexer": "ipython3",
   "version": "3.10.8"
  }
 },
 "nbformat": 4,
 "nbformat_minor": 5
}
