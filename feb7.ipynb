{
 "cells": [
  {
   "cell_type": "markdown",
   "id": "dfe017f4-0581-4af9-af32-8fac824fa53d",
   "metadata": {},
   "source": [
    "### Q1. You are writing code for a company. The requirement of the company is that you create a python function that will check whether the password entered by the user is correct or not. The function should take the password as input and return the string “Valid Password” if the entered password follows the below-given password guidelines else it should return “Invalid Password”.\n",
    "Note: 1. The Password should contain at least two uppercase letters and at least two lowercase letters.\n",
    "2. The Password should contain at least a number and three special characters.\n",
    "3. The length of the password should be 10 characters long."
   ]
  },
  {
   "cell_type": "code",
   "execution_count": 2,
   "id": "c7b32439-a396-4f72-88d2-191dd5bb0130",
   "metadata": {},
   "outputs": [
    {
     "name": "stdout",
     "output_type": "stream",
     "text": [
      "Valid Password\n"
     ]
    }
   ],
   "source": [
    "import re\n",
    "password = \"R@m@_f0rtu9e$\"\n",
    "flag = 0\n",
    "while True:\n",
    "    if (len(password)<=10):\n",
    "        flag = -1\n",
    "        break\n",
    "    elif not re.search(\"[a-z]\", password):\n",
    "        flag = -1\n",
    "        break\n",
    "    elif not re.search(\"[A-Z]\", password):\n",
    "        flag = -1\n",
    "        break\n",
    "    elif not re.search(\"[0-9]\", password):\n",
    "        flag = -1\n",
    "        break\n",
    "    elif not re.search(\"[_@$]\" , password):\n",
    "        flag = -1\n",
    "        break\n",
    "    elif re.search(\"\\s\" , password):\n",
    "        flag = -1\n",
    "        break\n",
    "    else:\n",
    "        flag = 0\n",
    "        print(\"Valid Password\")\n",
    "        break\n",
    " \n",
    "if flag == -1:\n",
    "    print(\"Not a Valid Password \")"
   ]
  },
  {
   "cell_type": "markdown",
   "id": "62580d96-703c-410f-8a5c-98385b2d35b1",
   "metadata": {},
   "source": [
    "### Q2. Solve the below-given questions using at least one of the following:\n",
    "1. Lambda functioJ\n",
    "2. Filter functioJ\n",
    "3. Zap functioJ\n",
    "4. List Comprehension\n"
   ]
  },
  {
   "cell_type": "code",
   "execution_count": 4,
   "id": "6fde5b9b-72ac-446b-a315-c05e5a6c0b29",
   "metadata": {},
   "outputs": [
    {
     "name": "stdout",
     "output_type": "stream",
     "text": [
      "True\n"
     ]
    }
   ],
   "source": [
    "#  Check if the string starts with a particular letter\n",
    "\n",
    "starts_with = lambda x: True if x.startswith('P') else False\n",
    "print(starts_with('Python'))"
   ]
  },
  {
   "cell_type": "code",
   "execution_count": 8,
   "id": "23139aba-c3a4-44e2-a145-448d4be3fc03",
   "metadata": {},
   "outputs": [
    {
     "name": "stdout",
     "output_type": "stream",
     "text": [
      "True\n"
     ]
    }
   ],
   "source": [
    " # Check if the string is numeric\n",
    "    \n",
    "Str_num = lambda x: True if x.isnumeric() else false\n",
    "print(Str_num(\"0034540\"))    \n",
    "    "
   ]
  },
  {
   "cell_type": "code",
   "execution_count": 10,
   "id": "173bf815-17ec-460c-8000-1fdd6e4e6e15",
   "metadata": {},
   "outputs": [],
   "source": [
    "#  Sort a list of tuples having fruit names and their quantity. [(\"mango\",99),(\"orange\",80), (\"grapes\", 1000)\n",
    "\n",
    "def Sort_Tuple(tup):\n",
    "    return(sorted(tup, key = lambda x: x[1])) \n",
    "tup =[(\"mango\",99),(\"orange\",80), (\"grapes\", 1000)]"
   ]
  },
  {
   "cell_type": "code",
   "execution_count": 18,
   "id": "222ce0e5-49ac-4865-9afe-9338e9621aad",
   "metadata": {},
   "outputs": [
    {
     "name": "stdout",
     "output_type": "stream",
     "text": [
      "[1, 4, 9, 16, 25, 36, 49, 64, 81, 100]\n"
     ]
    }
   ],
   "source": [
    "#  Find the squares of numbers from 1 to 10\n",
    "\n",
    "lst = [1, 2, 3, 4, 5,6,7,8,9,10] \n",
    "print(list(map(lambda x: x*x, lst))) "
   ]
  },
  {
   "cell_type": "code",
   "execution_count": 19,
   "id": "46cd4893-fd6d-47d2-be41-ca916d7071b6",
   "metadata": {},
   "outputs": [
    {
     "name": "stdout",
     "output_type": "stream",
     "text": [
      "[1.0, 1.2599210498948732, 1.4422495703074083, 1.5874010519681994, 1.7099759466766968, 1.8171205928321397, 1.912931182772389, 2.0, 2.080083823051904, 2.154434690031884]\n"
     ]
    }
   ],
   "source": [
    " # Find the cube root of numbers from 1 to 10\n",
    "lst = [1, 2, 3, 4, 5,6,7,8,9,10] \n",
    "print(list(map(lambda x: x**(1/3) , lst)))\n"
   ]
  },
  {
   "cell_type": "code",
   "execution_count": 20,
   "id": "aee08e04-d2b3-4370-af66-270fa8947270",
   "metadata": {},
   "outputs": [
    {
     "name": "stdout",
     "output_type": "stream",
     "text": [
      "Even numbers in the list:  [10, 4, 66]\n"
     ]
    }
   ],
   "source": [
    "# Check if a given number is even\n",
    "list1 = [10, 21, 4, 45, 66, 93]\n",
    "\n",
    "even_nos = [num for num in list1 if num % 2 == 0]\n",
    " \n",
    "print(\"Even numbers in the list: \", even_nos)"
   ]
  },
  {
   "cell_type": "code",
   "execution_count": 22,
   "id": "1545ae50-c75e-4abc-a3d5-b59b285c8f39",
   "metadata": {},
   "outputs": [
    {
     "name": "stdout",
     "output_type": "stream",
     "text": [
      "[1, 3, 5, 7, 9]\n"
     ]
    }
   ],
   "source": [
    "# Filter odd numbers from the given list.\n",
    "# [1,2,3,4,5,6,7,8,9,10]\n",
    "\n",
    "list2 = [1,2,3,4,5,6,7,8,9,10]\n",
    "print(list(filter(lambda x: x%2!=0, list2)))\n"
   ]
  },
  {
   "cell_type": "code",
   "execution_count": 23,
   "id": "4ac323db-7272-40f6-9327-4611bd124c86",
   "metadata": {},
   "outputs": [
    {
     "name": "stdout",
     "output_type": "stream",
     "text": [
      "The original list is : [1, 2, 3, 4, 5, 6, -1, -2, -3, -4, -5, 0]\n",
      "Result after performing sort operation : [1, 2, 3, 4, 5, 6, 0, -5, -4, -3, -2, -1]\n"
     ]
    }
   ],
   "source": [
    "#Sort a list of integers into positive and negative integers lists.\n",
    "#[1,2,3,4,5,6,-1,-2,-3,-4,-5,0]\n",
    "\n",
    "test_list = [1,2,3,4,5,6,-1,-2,-3,-4,-5,0]\n",
    "print(\"The original list is : \" + str(test_list))\n",
    "res = sorted(test_list, key = lambda i: 0 if i == 0 else -1 / i)\n",
    "print(\"Result after performing sort operation : \" + str(res))\n"
   ]
  }
 ],
 "metadata": {
  "kernelspec": {
   "display_name": "Python 3 (ipykernel)",
   "language": "python",
   "name": "python3"
  },
  "language_info": {
   "codemirror_mode": {
    "name": "ipython",
    "version": 3
   },
   "file_extension": ".py",
   "mimetype": "text/x-python",
   "name": "python",
   "nbconvert_exporter": "python",
   "pygments_lexer": "ipython3",
   "version": "3.10.8"
  }
 },
 "nbformat": 4,
 "nbformat_minor": 5
}
