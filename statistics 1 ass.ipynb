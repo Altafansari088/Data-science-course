{
 "cells": [
  {
   "cell_type": "markdown",
   "id": "7b006591-15f6-4387-b7b6-759885a25676",
   "metadata": {},
   "source": [
    "### Q1. What is Statistics?"
   ]
  },
  {
   "cell_type": "markdown",
   "id": "9e862dfe-32ed-4f61-a9ed-92080839af7a",
   "metadata": {},
   "source": [
    "Statistics is the science concerned with developing and studying methods for collecting, analyzing, interpreting and presenting empirical data."
   ]
  },
  {
   "cell_type": "markdown",
   "id": "98c98a46-c78e-4708-83e6-d30bb2057b0e",
   "metadata": {},
   "source": [
    "### Q2. Define the different types of statistics and give an example of when each type might be used."
   ]
  },
  {
   "cell_type": "markdown",
   "id": "56910b0e-36bb-4112-a85a-930bafc79efc",
   "metadata": {},
   "source": [
    "Two types of statistics data are:\n",
    "\n",
    "1.Descriptive statistics\n",
    "2.inferntial statistics"
   ]
  },
  {
   "cell_type": "markdown",
   "id": "948a4871-3ae4-4c48-afa7-201d4eb642dc",
   "metadata": {},
   "source": [
    "Descriptive statistics\n",
    "\n",
    "1.it consists of oraganizing and summarizing the data\n",
    "\n",
    "2.its measure the central teandency\n"
   ]
  },
  {
   "cell_type": "markdown",
   "id": "4b84b22b-d63c-48cc-a158-ff226274b5cb",
   "metadata": {},
   "source": [
    "inferntial statistics\n",
    "1.its consists of using data you have measured to form conclusion/"
   ]
  },
  {
   "cell_type": "markdown",
   "id": "5cc17e37-c7d1-4934-bc3f-acae731d20fb",
   "metadata": {},
   "source": [
    "### Q3. What are the different types of data and how do they differ from each other? Provide an example of each type of data."
   ]
  },
  {
   "cell_type": "markdown",
   "id": "bb77a580-a987-4f4a-9316-b3d6225a2780",
   "metadata": {},
   "source": [
    "Quailitative Data:Qualitative data, also known as the categorical data, describes the data in the form fits into the categories. Qualitative data are not numerical data. The categorical information involves categorical variables that describe the features such as a home, townperson’s gender etc. The quailitative data are classified into two different types.\n",
    "\n",
    "Nominal data\n",
    "\n",
    "Ordinal Data\n",
    "\n",
    "2. Numerical or Quantitative Data:Quantitative data is also known as numerical data which represents the numerical value. Numerical data gives the information about the quantities of a specific thing. Some examples of numerical data are length, height, weight, size, and so on. The quantitative(Numerical data) data can be classified into two different types based on the data sets.\n",
    "\n",
    "Discrete Data\n",
    "\n",
    "Continuous Data"
   ]
  },
  {
   "cell_type": "markdown",
   "id": "d9b447f5-862e-4e3b-ba0e-033c86cfe6a2",
   "metadata": {},
   "source": [
    "### Q4. Categorise the following datasets with respect to quantitative and qualitative data types:\n",
    "(i) Grading in exam: A+, A, B+, B, C+, C, D, E\n",
    "\n",
    "(ii) Colour of mangoes: yellow, green, orange, red\n",
    "\n",
    "(iii) Height data of a class: [178.9, 179, 179.5, 176, 177.2, 178.3, 175.8,...]\n",
    "\n",
    "(iv) Number of mangoes exported by a farm: [500, 600, 478, 672, ...]"
   ]
  },
  {
   "cell_type": "code",
   "execution_count": null,
   "id": "f3d06898-65ea-49ec-bdd6-04cc47d8cdc6",
   "metadata": {},
   "outputs": [],
   "source": [
    "i. Nominal\n",
    "2. Nominal\n",
    "3.continous\n",
    "4.continous"
   ]
  },
  {
   "cell_type": "markdown",
   "id": "4032df30-d551-485d-9918-e3ca2108800f",
   "metadata": {},
   "source": [
    "### Q5. Explain the concept of levels of measurement and give an example of a variable for each level."
   ]
  },
  {
   "cell_type": "markdown",
   "id": "510f00aa-e73d-4b4a-ba87-677b080e1e92",
   "metadata": {},
   "source": [
    "Nominal: the data can only be categorized.\n",
    "\n",
    "Ordinal: the data can be categorized and ranked.\n",
    "\n",
    "Interval: the data can be categorized and ranked, and evenly spaced.\n",
    "\n",
    "Ratio: the data can be categorized, ranked, evenly spaced and has a natural zero."
   ]
  },
  {
   "cell_type": "markdown",
   "id": "b96708be-433b-45dc-a490-475b87dba387",
   "metadata": {},
   "source": [
    "### Q6. Why is it important to understand the level of measurement when analyzing data? Provide an example to illustrate your answer."
   ]
  },
  {
   "cell_type": "markdown",
   "id": "2f80cd78-8dc8-4ca7-886f-ea61aa6b847c",
   "metadata": {},
   "source": [
    "Ans.It is important to understand the level of measurement of variables in research, because the level of measurement determines the type of statistical analysis that can be conducted, and, therefore, the type of conclusions that can be drawn from the research."
   ]
  },
  {
   "cell_type": "markdown",
   "id": "ae1d642a-148f-4fd6-a557-319bf6da0cc9",
   "metadata": {},
   "source": [
    "### Q7. How nominal data type is different from ordinal data type."
   ]
  },
  {
   "cell_type": "markdown",
   "id": "fb37c0aa-dd4b-4965-a92f-205d77ca472e",
   "metadata": {},
   "source": [
    "Ans.Nominal data is classified without a natural order or rank, whereas ordinal data has a predetermined or natural order."
   ]
  },
  {
   "cell_type": "markdown",
   "id": "cab2ba29-84b5-45b9-9767-e0972f8d63df",
   "metadata": {},
   "source": [
    "### Q8. Which type of plot can be used to display data in terms of range?"
   ]
  },
  {
   "cell_type": "markdown",
   "id": "7f040d23-e05c-47b7-8b15-bf73045f2ab8",
   "metadata": {},
   "source": [
    "Ans. box plots allow for easy comparison of data between different groups or categories. Box plots are commonly used in statistical analysis, especially for comparing data distributions and identifying potential outliers."
   ]
  },
  {
   "cell_type": "markdown",
   "id": "b82ccae6-7c70-4043-9a32-bbc4c91284b0",
   "metadata": {},
   "source": [
    "### Q9. Describe the difference between descriptive and inferential statistics. Give an example of each type of statistics and explain how they are used."
   ]
  },
  {
   "cell_type": "markdown",
   "id": "5f325c13-9e69-4fed-a2fd-cd8d2ed43557",
   "metadata": {},
   "source": [
    "Ans. As you can see, Descriptive statistics summarize the features or characteristics of a data set, while Inferential statistics enables the user to test a hypothesis to check if the data is generalizable to the wider population"
   ]
  },
  {
   "cell_type": "markdown",
   "id": "8fe7018c-5fb6-43d1-8818-58db1ff949e5",
   "metadata": {},
   "source": [
    "### Q10. What are some common measures of central tendency and variability used in statistics? Explain how each measure can be used to describe a dataset."
   ]
  },
  {
   "cell_type": "markdown",
   "id": "b36e2ab2-dbf1-4503-ae63-8620ceeb265d",
   "metadata": {},
   "source": [
    "Ans. Central tendency and variation are two measures used in statistics to summarize data. Measure of central tendency shows where the center or middle of the data set is located, whereas measure of variation shows the dispersion among data values."
   ]
  }
 ],
 "metadata": {
  "kernelspec": {
   "display_name": "Python 3 (ipykernel)",
   "language": "python",
   "name": "python3"
  },
  "language_info": {
   "codemirror_mode": {
    "name": "ipython",
    "version": 3
   },
   "file_extension": ".py",
   "mimetype": "text/x-python",
   "name": "python",
   "nbconvert_exporter": "python",
   "pygments_lexer": "ipython3",
   "version": "3.10.8"
  }
 },
 "nbformat": 4,
 "nbformat_minor": 5
}
