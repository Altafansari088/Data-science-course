{
 "cells": [
  {
   "cell_type": "markdown",
   "id": "c49245a6-1d37-47e2-9f83-2cc895e4d4c8",
   "metadata": {},
   "source": [
    "### Q1. What are the three measures of central tendency"
   ]
  },
  {
   "cell_type": "markdown",
   "id": "542bab93-8292-4a96-bbc2-f3561a2b0fee",
   "metadata": {},
   "source": [
    "the three centeral tendency are \n",
    " 1.Mean\n",
    " \n",
    " 2.Median\n",
    " \n",
    " 3.Mode\n",
    "\n"
   ]
  },
  {
   "cell_type": "markdown",
   "id": "f0c8ccc9-d609-4b4a-aa65-0aab8ca7824f",
   "metadata": {},
   "source": [
    "### Q2. What is the difference between the mean, median, and mode? How are they used to measure the central tendency of a dataset?"
   ]
  },
  {
   "cell_type": "markdown",
   "id": "be80b79d-f6ea-4488-85ce-e3eb6893709e",
   "metadata": {},
   "source": [
    " ##### Ans. The mean is often used for symmetrically distributed data without outliers. The median is preferred when dealing with skewed data or data with outliers. The mode is useful for identifying the most frequent value(s) in a dataset, particularly for categorical or discrete variables"
   ]
  },
  {
   "cell_type": "markdown",
   "id": "ffcf396a-e50e-4806-bc51-9b32e92460c7",
   "metadata": {},
   "source": [
    "### Q3. Measure the three measures of central tendency for the given height data:\n",
    "\n",
    "[178,177,176,177,178.2,178,175,179,180,175,178.9,176.2,177,172.5,178,176.5]"
   ]
  },
  {
   "cell_type": "code",
   "execution_count": 2,
   "id": "d8b88042-79e9-450a-943e-6b4da1222529",
   "metadata": {},
   "outputs": [
    {
     "data": {
      "text/plain": [
       "177.01875"
      ]
     },
     "execution_count": 2,
     "metadata": {},
     "output_type": "execute_result"
    }
   ],
   "source": [
    "import numpy as np\n",
    "data = [178,177,176,177,178.2,178,175,179,180,175,178.9,176.2,177,172.5,178,176.5]\n",
    "np.mean(data)"
   ]
  },
  {
   "cell_type": "markdown",
   "id": "db2e2a95-4662-4ec3-9e04-b2611413769a",
   "metadata": {},
   "source": [
    "## mode \n",
    "import statistics\n",
    "statistics.mode(data)"
   ]
  },
  {
   "cell_type": "code",
   "execution_count": 7,
   "id": "4242a903-2671-4e0a-82a6-06c6d4915f9e",
   "metadata": {},
   "outputs": [
    {
     "data": {
      "text/plain": [
       "177.0"
      ]
     },
     "execution_count": 7,
     "metadata": {},
     "output_type": "execute_result"
    }
   ],
   "source": [
    "# median\n",
    "np.median(data)"
   ]
  },
  {
   "cell_type": "markdown",
   "id": "a8dd3de6-0f3e-4d6c-b43c-267dd704fd48",
   "metadata": {},
   "source": [
    "### Q4. Find the standard deviation for the given data:\n",
    "\n",
    " [178,177,176,177,178.2,178,175,179,180,175,178.9,176.2,177,172.5,178,176.5]"
   ]
  },
  {
   "cell_type": "code",
   "execution_count": 9,
   "id": "2930affc-b0c9-4c55-a11d-28acdd9b7e9c",
   "metadata": {},
   "outputs": [
    {
     "data": {
      "text/plain": [
       "1.7885814036548633"
      ]
     },
     "execution_count": 9,
     "metadata": {},
     "output_type": "execute_result"
    }
   ],
   "source": [
    " # standard deviation\n",
    "data1 = [178,177,176,177,178.2,178,175,179,180,175,178.9,176.2,177,172.5,178,176.5]  \n",
    "np.std(data1)"
   ]
  },
  {
   "cell_type": "markdown",
   "id": "74ae229a-e034-43f1-b6c4-41e005a58428",
   "metadata": {},
   "source": [
    "### Q5. How are measures of dispersion such as range, variance, and standard deviation used to describe  the spread of a dataset? Provide an example."
   ]
  },
  {
   "cell_type": "markdown",
   "id": "4bea50ad-5a39-430f-8d90-1eb4295bd5d5",
   "metadata": {},
   "source": [
    "Ans. 1. Range: The range is the simplest measure of dispersion and represents the difference between the maximum and minimum values in a dataset.\n",
    "For example, if you have a dataset of exam scores ranging from 60 to 90, the range would be 30.\n",
    "\n",
    "\n",
    "2. Variance: The variance measures the average of the squared differences between each data point and the mean of the dataset. It considers the deviation of each value from the mean and gives more weight to larger deviations due to the squaring of differences example:if you have a dataset of exam scores with a variance of 100, it suggests a larger spread of scores compared to a dataset with a variance of 25.\n",
    "\n",
    "3. Standard Deviation: The standard deviation is the square root of the variance and provides a measure of the dispersion in the original units of the dataset. It represents the average distance between each data point and the mean"
   ]
  },
  {
   "cell_type": "markdown",
   "id": "a5430620-6621-4aea-b36f-59ab76548e54",
   "metadata": {},
   "source": [
    "#### Q6. What is a Venn diagram?"
   ]
  },
  {
   "cell_type": "markdown",
   "id": "c2a59726-f7bf-4454-b537-47ba539a3b77",
   "metadata": {},
   "source": [
    "Ans. A Venn diagram is a graphical representation of the relationships between different sets or groups of objects. It uses overlapping circles or shapes to visually depict the commonalities and differences among the sets"
   ]
  },
  {
   "cell_type": "markdown",
   "id": "956359ef-0df8-4602-a822-78718ad92c5b",
   "metadata": {},
   "source": [
    "#### Q7. For the two given sets A = (2,3,4,5,6,7) & B = (0,2,6,8,10). Find:\n",
    "\n",
    "(i)   \tA U B\n",
    "\n",
    "(ii)\tA ⋃ B"
   ]
  },
  {
   "cell_type": "markdown",
   "id": "cd8e8755-3a8d-4df0-8202-f80db4a4f0c0",
   "metadata": {},
   "source": [
    "ANS. A = {2, 3, 4, 5, 6, 7}\n",
    "  B = {0, 2, 6, 8, 10}"
   ]
  },
  {
   "cell_type": "markdown",
   "id": "04b9f1be-3d43-4591-92c9-0a6ac381856f",
   "metadata": {},
   "source": [
    "#### Q8. What do you understand about skewness in data?"
   ]
  },
  {
   "cell_type": "markdown",
   "id": "9be342ee-cd52-4962-b89c-893d791cfedb",
   "metadata": {},
   "source": [
    "Ans. Skewness is a statistical measure that describes the asymmetry or lack of symmetry in a distribution of data points. It quantifies the extent to which a dataset deviates from a perfectly symmetric distribution."
   ]
  },
  {
   "cell_type": "markdown",
   "id": "28b7538f-f8af-4363-a6f9-8f3c84040a70",
   "metadata": {},
   "source": [
    "#### Q9. If a data is right skewed then what will be the position of median with respect to mean?"
   ]
  },
  {
   "cell_type": "markdown",
   "id": "1c4483b5-6fa8-4c9b-9723-464d062f8ceb",
   "metadata": {},
   "source": [
    "Ans.  In a right-skewed distribution, the median will typically be lower than the mean. This is because the tail of the distribution is extended towards the right side, meaning there are a few extremely large values that pull the mean towards higher values."
   ]
  },
  {
   "cell_type": "markdown",
   "id": "643aacff-e04d-49c0-878a-7c1a40f85d78",
   "metadata": {},
   "source": [
    "#### Q10. Explain the difference between covariance and correlation. How are these measures used in statistical analysis?"
   ]
  },
  {
   "cell_type": "markdown",
   "id": "af22e5c3-8bdf-482f-8508-0a31dc3919e3",
   "metadata": {},
   "source": [
    "Ans. Covariance and correlation are both measures used to describe the relationship between two variables in a dataset\n",
    "\n",
    "Covariance:\n",
    "\n",
    "Covariance measures the direction and strength of the linear relationship between two variables.\n",
    "It determines how changes in one variable are associated with changes in another variable.\n",
    "Covariance can be positive, negative, or zero. A positive covariance indicates that as one variable increases, the other tends to increase as well. A negative covariance indicates that as one variable increases, the other tends to decrease. A covariance of zero indicates no linear relationship between the variables.\n",
    "Covariance is affected by the scales of the variables. Larger values of the variables can result in larger covariances, making it difficult to compare the strength of the relationship across different datasets."
   ]
  },
  {
   "cell_type": "markdown",
   "id": "9136ce54-8948-4de1-8afa-c8d1084e8ea3",
   "metadata": {},
   "source": [
    "Correlation:\n",
    "\n",
    "Correlation also measures the direction and strength of the linear relationship between two variables.\n",
    "However, correlation is a standardized version of covariance, which normalizes the values between -1 and 1.\n",
    "Correlation allows for easier interpretation and comparison of the strength and direction of the relationship across different datasets, as it is not influenced by the scales of the variables.\n",
    "A correlation coefficient of +1 indicates a perfect positive linear relationship, -1 indicates a perfect negative linear relationship, and 0 indicates no linear relationship between the variables."
   ]
  },
  {
   "cell_type": "markdown",
   "id": "63d61a93-269f-441c-bcd0-a00c5e3aefbc",
   "metadata": {},
   "source": [
    "#### Q11. What is the formula for calculating the sample mean? Provide an example calculation for a dataset."
   ]
  },
  {
   "cell_type": "markdown",
   "id": "4032d6e5-1bca-40e6-911e-661b8cda7b8e",
   "metadata": {},
   "source": [
    "Ans. Sample Mean = (Sum of all values in the dataset) / (Number of values in the dataset)"
   ]
  },
  {
   "cell_type": "markdown",
   "id": "307f08cf-3d44-4fe4-af60-32e03e2cfbe5",
   "metadata": {},
   "source": [
    "#### Q12. For a normal distribution data what is the relationship between its measure of central tendency?"
   ]
  },
  {
   "cell_type": "markdown",
   "id": "0c547fec-6162-4cf7-8a90-f6f4d2ba78ad",
   "metadata": {},
   "source": [
    "Ans. For a normal distribution, the measures of central tendency, namely the mean, median, and mode, are all equal to each other. In a perfectly symmetrical normal distribution, the peak of the distribution (the mode) is located at the center, and the mean and median also coincide at the center."
   ]
  },
  {
   "cell_type": "markdown",
   "id": "fdfc9a62-a582-41b4-b479-72738d60b2ae",
   "metadata": {},
   "source": [
    "#### Q13. How is covariance different from correlation?"
   ]
  },
  {
   "cell_type": "markdown",
   "id": "13f381d7-3348-4404-bcb7-fad9072df098",
   "metadata": {},
   "source": [
    "Covariance measures the direction and strength of the linear relationship between two variables. It indicates how changes in one variable are associated with changes in another variable.\n",
    "\n",
    "\n",
    "Correlation also measures the direction and strength of the linear relationship between two variables. However, correlation is a standardized version of covariance, providing a measure of the linear relationship on a scale from -1 to 1."
   ]
  },
  {
   "cell_type": "markdown",
   "id": "8a66721f-a2c5-4392-9234-693755906b63",
   "metadata": {},
   "source": [
    "#### Q14. How do outliers affect measures of central tendency and dispersion? Provide an example"
   ]
  },
  {
   "cell_type": "markdown",
   "id": "4e8bc222-cfb9-4ab8-8472-ebff45768fd1",
   "metadata": {},
   "source": [
    "Measures of Dispersion:\n",
    "\n",
    "Range: Outliers can greatly influence the range because it is based on the difference between the maximum and minimum values in the dataset. If an outlier has an extreme value, it can significantly increase or decrease the range, making it less representative of the spread of the remaining data.\n",
    "\n",
    "\n",
    "Variance and Standard Deviation: Outliers can have a substantial impact on variance and standard deviation because these measures consider the deviations of each data point from the mean. Outliers with extreme values will contribute to larger deviations, resulting in increased variance and standard deviation. They can exaggerate the spread of the data.\n",
    "\n",
    "\n",
    "Interquartile Range (IQR): The IQR, which is the range between the first quartile (Q1) and the third quartile (Q3), is less sensitive to outliers compared to the range. Outliers have less influence on the IQR because it is based on the position of values in the dataset rather than their actual magnitudes."
   ]
  },
  {
   "cell_type": "markdown",
   "id": "00673c98-c093-4179-b279-cf37fca6e00e",
   "metadata": {},
   "source": [
    "Measures of Central Tendency:\n",
    "\n",
    "Mean: Outliers can pull the mean towards their extreme values. If there is an outlier with a much larger or smaller value compared to the rest of the data, it can greatly influence the mean. The mean may no longer represent the typical or average value of the dataset accurately.\n",
    "\n",
    "\n",
    "Median: The median is less affected by outliers because it is simply the middle value of the dataset. Outliers have less impact on the median since it only considers the relative position of values, not their actual magnitudes.\n",
    "\n",
    "\n",
    "Mode: The mode represents the most frequently occurring value(s) in the dataset. Outliers that are significantly different from the other values may not have an impact on the mode if they occur with a lower frequency."
   ]
  }
 ],
 "metadata": {
  "kernelspec": {
   "display_name": "Python 3 (ipykernel)",
   "language": "python",
   "name": "python3"
  },
  "language_info": {
   "codemirror_mode": {
    "name": "ipython",
    "version": 3
   },
   "file_extension": ".py",
   "mimetype": "text/x-python",
   "name": "python",
   "nbconvert_exporter": "python",
   "pygments_lexer": "ipython3",
   "version": "3.10.8"
  }
 },
 "nbformat": 4,
 "nbformat_minor": 5
}
