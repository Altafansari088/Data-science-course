{
 "cells": [
  {
   "cell_type": "markdown",
   "id": "b4202a9d-2410-450b-b5a7-75945ce40b0f",
   "metadata": {},
   "source": [
    "### Q1. What is the Probability density function?"
   ]
  },
  {
   "cell_type": "markdown",
   "id": "9672a706-a699-4ca4-9cdc-617cda665d43",
   "metadata": {},
   "source": [
    "Ans. The PDF represents a continuous probability distribution and is typically denoted as f(x), where 'x' represents the random variable. The PDF is defined such that the area under the curve over a certain range represents the probability of the random variable falling within that range. The PDF is non-negative, and the total area under the curve equals 1."
   ]
  },
  {
   "cell_type": "markdown",
   "id": "4677ccae-83dc-4ac5-a865-c4f101038f8e",
   "metadata": {},
   "source": [
    "#### Q2. What are the types of Probability distribution ?"
   ]
  },
  {
   "cell_type": "markdown",
   "id": "b9e17878-7ef6-44aa-af63-7cc1882ad147",
   "metadata": {},
   "source": [
    "Ans. There are two types of probability distributions: Discrete probability distributions. Continuous probability distributions."
   ]
  },
  {
   "cell_type": "markdown",
   "id": "bcb87f25-db40-42d8-afbd-77c7008d862d",
   "metadata": {},
   "source": [
    "### Q3. Write a Python function to calculate the probability density function of a normal distribution with given mean and standard deviation at a given point."
   ]
  },
  {
   "cell_type": "code",
   "execution_count": 3,
   "id": "4257caef-134d-4705-b4ff-b479423c082f",
   "metadata": {},
   "outputs": [
    {
     "name": "stdout",
     "output_type": "stream",
     "text": [
      "0.0804410163156249\n"
     ]
    }
   ],
   "source": [
    "from scipy.stats import norm\n",
    "import numpy as np\n",
    "  \n",
    "data_start = -5\n",
    "data_end = 5\n",
    "data_points = 11\n",
    "data = np.linspace(data_start, data_end, data_points)\n",
    "  \n",
    "mean = np.mean(data)\n",
    "std = np.std(data)\n",
    "  \n",
    "probability_pdf = norm.pdf(3, loc=mean, scale=std)\n",
    "print(probability_pdf)"
   ]
  },
  {
   "cell_type": "markdown",
   "id": "a8bcf28e-0987-48a1-aa7d-a4f82c556bda",
   "metadata": {},
   "source": [
    "#### Q4. What are the properties of Binomial distribution? Give two examples of events where binomial distribution can be applied."
   ]
  },
  {
   "cell_type": "markdown",
   "id": "6d61e7e5-2161-4b5b-bcd6-0fb5eb5e7215",
   "metadata": {},
   "source": [
    "Ans.The binomial distribution is a discrete probability distribution that models the number of successes in a fixed number of independent Bernoulli trials, where each trial has only two possible outcomes: success or failure"
   ]
  },
  {
   "cell_type": "markdown",
   "id": "4ec3dba6-774c-4f4e-bd43-921d3c3953b8",
   "metadata": {},
   "source": [
    "#### Q5.  Generate a random sample of size 1000 from a binomial distribution with probability of success 0.4 and plot a histogram of the results using matplotlib."
   ]
  },
  {
   "cell_type": "code",
   "execution_count": 4,
   "id": "88be8287-a5ec-4248-8f0e-3f5f2d3eb4bd",
   "metadata": {},
   "outputs": [
    {
     "data": {
      "image/png": "[encoded data removed]",
      "text/plain": [
       "<Figure size 640x480 with 1 Axes>"
      ]
     },
     "metadata": {},
     "output_type": "display_data"
    }
   ],
   "source": [
    "import numpy as np\n",
    "import matplotlib.pyplot as plt\n",
    "\n",
    "# Set the parameters\n",
    "sample_size = 1000\n",
    "probability_of_success = 0.4\n",
    "\n",
    "# Generate the random sample\n",
    "sample = np.random.binomial(1, probability_of_success, size=sample_size)\n",
    "\n",
    "# Plot the histogram\n",
    "plt.hist(sample, bins=2, edgecolor='black')\n",
    "plt.xlabel('Success (1) / Failure (0)')\n",
    "plt.ylabel('Frequency')\n",
    "plt.title('Binomial Distribution (n=1000, p=0.4)')\n",
    "plt.show()"
   ]
  },
  {
   "cell_type": "markdown",
   "id": "a036014a-3043-4bef-9f48-1e1234a5d631",
   "metadata": {},
   "source": [
    "#### Q6. Write a Python function to calculate the cumulative distribution function of a Poisson distribution with given mean at a given point."
   ]
  },
  {
   "cell_type": "code",
   "execution_count": 5,
   "id": "8cb97131-8e0a-4ab4-ae72-809ed8b2e95b",
   "metadata": {},
   "outputs": [],
   "source": [
    "import math\n",
    "\n",
    "def poisson_cdf(k, mean):\n",
    "    cdf = 0.0\n",
    "    for i in range(k + 1):\n",
    "        cdf += (math.exp(-mean) * mean**i) / math.factorial(i)\n",
    "    return cdf\n"
   ]
  },
  {
   "cell_type": "code",
   "execution_count": 6,
   "id": "50418258-8d37-45dc-ae63-423c7c14ff45",
   "metadata": {},
   "outputs": [
    {
     "name": "stdout",
     "output_type": "stream",
     "text": [
      "CDF at k = 4 is 0.8911780189141512\n"
     ]
    }
   ],
   "source": [
    "mean = 2.5\n",
    "k = 4\n",
    "cdf_value = poisson_cdf(k, mean)\n",
    "print(\"CDF at k =\", k, \"is\", cdf_value)\n"
   ]
  },
  {
   "cell_type": "markdown",
   "id": "a212abbb-9eea-4247-99c4-c5173c26f9ed",
   "metadata": {},
   "source": [
    "#### Q7. How Binomial distribution different from Poisson distribution?"
   ]
  },
  {
   "cell_type": "markdown",
   "id": "0e1f1488-86d6-4ff3-af44-b04a82435a5a",
   "metadata": {},
   "source": [
    "Ans.The binomial distribution and the Poisson distribution are both probability distributions used to model the number of events or successes, but they have different characteristics and are applicable in different scenarios"
   ]
  },
  {
   "cell_type": "markdown",
   "id": "9af42530-6cfc-4ba1-ad51-7b0f41f9264e",
   "metadata": {},
   "source": [
    "Nature of the Process:\n",
    "\n",
    "Binomial Distribution: The binomial distribution models the number of successes in a fixed number of independent Bernoulli trials, where each trial has only two possible outcomes (usually referred to as success and failure).\n",
    "\n",
    "\n",
    "Poisson Distribution: The Poisson distribution models the number of events occurring within a fixed interval of time or space. It is often used to describe rare events or events that occur randomly in a continuous fashion."
   ]
  },
  {
   "cell_type": "markdown",
   "id": "4129b725-4933-43e7-a6ad-c2afb6175775",
   "metadata": {},
   "source": [
    "#### Q8. Generate a random sample of size 1000 from a Poisson distribution with mean 5 and calculate the sample mean and variance."
   ]
  },
  {
   "cell_type": "code",
   "execution_count": 7,
   "id": "3c105943-3f9e-49aa-a44d-2696a8c16192",
   "metadata": {},
   "outputs": [
    {
     "name": "stdout",
     "output_type": "stream",
     "text": [
      "Sample Mean: 5.007\n",
      "Sample Variance: 5.166951\n"
     ]
    }
   ],
   "source": [
    "import numpy as np\n",
    "\n",
    "# Set the parameters\n",
    "sample_size = 1000\n",
    "mean = 5\n",
    "\n",
    "# Generate the random sample\n",
    "sample = np.random.poisson(mean, size=sample_size)\n",
    "\n",
    "# Calculate the sample mean and variance\n",
    "sample_mean = np.mean(sample)\n",
    "sample_variance = np.var(sample)\n",
    "\n",
    "# Print the results\n",
    "print(\"Sample Mean:\", sample_mean)\n",
    "print(\"Sample Variance:\", sample_variance)"
   ]
  },
  {
   "cell_type": "markdown",
   "id": "5fc50d94-b5aa-44b1-8300-05860d30baf7",
   "metadata": {},
   "source": [
    "#### Q9. How mean and variance are related in Binomial distribution and Poisson distribution?"
   ]
  },
  {
   "cell_type": "markdown",
   "id": "5d921212-7102-4598-883b-38e690dadbc6",
   "metadata": {},
   "source": [
    "Binomial Distribution:\n",
    "\n",
    "Mean: For a binomial distribution, the mean is given by the product of the number of trials (n) and the probability of success (p), i.e., mean = n *p.\n",
    "\n",
    "Variance: The variance of a binomial distribution is given by the product of the number of trials, the probability of success, and the probability of failure (q = 1 - p), i.e., variance = n * p * q.\n",
    "\n",
    "\n",
    "Relationship: In a binomial distribution, the variance is directly proportional to both the number of trials and the probability of success. As the number of trials or the probability of success increases, the variance also increases. The variance reaches its maximum when p = 0.5."
   ]
  },
  {
   "cell_type": "markdown",
   "id": "6194d7b4-1721-463d-8693-8b7845c834a7",
   "metadata": {},
   "source": [
    "Poisson Distribution:\n",
    "\n",
    "Mean: In a Poisson distribution, the mean (λ) represents the average rate of event occurrence within a fixed interval.\n",
    "\n",
    "Variance: The variance of a Poisson distribution is also equal to the mean, i.e., variance = mean = λ.\n",
    "\n",
    "Relationship: In a Poisson distribution, the mean and variance are equal. This is a unique property of the Poisson distribution, where the variability of the distribution is directly related to its mean. As the mean increases, both the spread and the shape of the distribution change."
   ]
  },
  {
   "cell_type": "markdown",
   "id": "434a8742-03c4-4ca1-82e3-0d97c8079690",
   "metadata": {},
   "source": [
    "#### Q10. In normal distribution with respect to mean position, where does the least frequent data appear?"
   ]
  },
  {
   "cell_type": "markdown",
   "id": "11c4f56f-8a3a-485e-b765-eb80074fb9be",
   "metadata": {},
   "source": [
    "Ans A normal distribution is symmetric around its mean, which is the center of the distribution. The mean represents the most probable or most frequent value in the distribution. As you move away from the mean towards the tails of the distribution, the frequency of occurrence decreases.\n",
    "\n",
    "Specifically, in a normal distribution:\n",
    "\n",
    "The left tail represents the values that are lower than the mean.\n",
    "The right tail represents the values that are higher than the mean."
   ]
  }
 ],
 "metadata": {
  "kernelspec": {
   "display_name": "Python 3 (ipykernel)",
   "language": "python",
   "name": "python3"
  },
  "language_info": {
   "codemirror_mode": {
    "name": "ipython",
    "version": 3
   },
   "file_extension": ".py",
   "mimetype": "text/x-python",
   "name": "python",
   "nbconvert_exporter": "python",
   "pygments_lexer": "ipython3",
   "version": "3.10.8"
  }
 },
 "nbformat": 4,
 "nbformat_minor": 5
}
