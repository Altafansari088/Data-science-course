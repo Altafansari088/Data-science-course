{
 "cells": [
  {
   "cell_type": "markdown",
   "id": "ebac27d2-285d-486a-b29a-c5940cfd70ad",
   "metadata": {},
   "source": [
    "# Q1. Create a python program to sort the given list of tuples based on integer value using alambda function.\n",
    "[('Sachin Tendulkar', 34357), ('Ricky Ponting', 27483), ('Jack Kallis', 25534), ('Virat Kohli', 24936)]"
   ]
  },
  {
   "cell_type": "code",
   "execution_count": 4,
   "id": "718115a6-644f-44ba-beb4-34685a2d0ac8",
   "metadata": {},
   "outputs": [],
   "source": [
    "list1= [('Sachin Tendulkar', 34357), ('Ricky Ponting', 27483), ('Jack Kallis', 25534), ('Virat Kohli', 24936)]\n",
    "newlist= lambda list: list if type(list) == int else str\n",
    "\n"
   ]
  },
  {
   "cell_type": "code",
   "execution_count": 5,
   "id": "e54f54e0-e046-4c0f-88aa-a718f006ab17",
   "metadata": {},
   "outputs": [
    {
     "data": {
      "text/plain": [
       "str"
      ]
     },
     "execution_count": 5,
     "metadata": {},
     "output_type": "execute_result"
    }
   ],
   "source": [
    "newlist(list1)"
   ]
  },
  {
   "cell_type": "markdown",
   "id": "44fdfee9-d2b2-46d2-bfb6-644b3471a967",
   "metadata": {},
   "source": [
    "## Q2. Write a Python Program to find the squares of all the numbers in the given list of integers using lambda and map functions.\n",
    "[1, 2, 3, 4, 5, 6, 7, 8, 9, 10]"
   ]
  },
  {
   "cell_type": "code",
   "execution_count": null,
   "id": "fdab3ad9-2415-4e37-b271-e60095da553d",
   "metadata": {},
   "outputs": [],
   "source": [
    "list1=[1, 2, 3, 4, 5, 6, 7, 8, 9, 10]\n",
    "square=list(map(lambda x : x**2,list1))\n",
    "print(square)"
   ]
  },
  {
   "cell_type": "markdown",
   "id": "e758308c-26f5-4fa0-9b86-dfd40ebdc0e6",
   "metadata": {},
   "source": [
    "## Q3. Write a python program to convert the given list of integers into a tuple of strings. Use map and lambda functions\n",
    "Given String: [1, 2, 3, 4, 5, 6, 7, 8, 9, 10]\n",
    "Expected output: ('1', '2', '3', '4', '5', '6', '7', '8', '9', '10')"
   ]
  },
  {
   "cell_type": "code",
   "execution_count": null,
   "id": "7b606c31-4b93-4c53-baa0-c2c50be88b8f",
   "metadata": {},
   "outputs": [],
   "source": [
    "nums_list = [1,2,3,4,5,6,7,8,9,10]\n",
    "result_list = list(map(lambda x:str(x),nums_list))\n",
    "print(result_list)"
   ]
  },
  {
   "cell_type": "markdown",
   "id": "baced34a-3cfa-4acb-9b56-b6320031166b",
   "metadata": {},
   "source": [
    "### Q4. Write a python program using reduce function to compute the product of a list containing numbers from 1 to 25."
   ]
  },
  {
   "cell_type": "code",
   "execution_count": 30,
   "id": "e755d763-fe9a-48b4-b724-cc4da348f45f",
   "metadata": {},
   "outputs": [
    {
     "name": "stdout",
     "output_type": "stream",
     "text": [
      "15511210043330985984000000\n"
     ]
    }
   ],
   "source": [
    "from functools import reduce\n",
    "\n",
    "list=[1,2,3,4,5,6,7,8,9,10,11,12,13,14,15,16,17,18,19,20,21,22,23,24,25]\n",
    "product= reduce(lambda a,b: a*b, list)\n",
    "print(product)"
   ]
  },
  {
   "cell_type": "markdown",
   "id": "40532a0e-069a-46ae-adee-29237f57a163",
   "metadata": {},
   "source": [
    "### Q5. Write a python program to filter the numbers in a given list that are divisible by 2 and 3 using the filter function.\n",
    "[2, 3, 6, 9, 27, 60, 90, 120, 55, 46]"
   ]
  },
  {
   "cell_type": "code",
   "execution_count": null,
   "id": "8c2a6f29-8144-44a5-8241-c4a337907017",
   "metadata": {},
   "outputs": [],
   "source": [
    "l=[2, 3, 6, 9, 27, 60, 90, 120, 55, 46]\n",
    "list(filter(lambda x : x if x%2==0 or x%3==0  , l))"
   ]
  },
  {
   "cell_type": "markdown",
   "id": "d2da7530-2658-4624-b0f2-422a16ca2a59",
   "metadata": {},
   "source": [
    "### Q6. Write a python program to find palindromes in the given list of strings using lambda and filter function.\n",
    "['python', 'php', 'aba', 'radar', 'level']"
   ]
  },
  {
   "cell_type": "code",
   "execution_count": null,
   "id": "c4ece43d-5850-4926-83cf-dcb3ee09b43f",
   "metadata": {},
   "outputs": [],
   "source": [
    "texts = ['python', 'php', 'aba', 'radar', 'level']\n",
    "result = list(filter(lambda x: (x == \"\".join(reversed(x))), texts))\n",
    "print(result)"
   ]
  }
 ],
 "metadata": {
  "kernelspec": {
   "display_name": "Python 3 (ipykernel)",
   "language": "python",
   "name": "python3"
  },
  "language_info": {
   "codemirror_mode": {
    "name": "ipython",
    "version": 3
   },
   "file_extension": ".py",
   "mimetype": "text/x-python",
   "name": "python",
   "nbconvert_exporter": "python",
   "pygments_lexer": "ipython3",
   "version": "3.10.8"
  }
 },
 "nbformat": 4,
 "nbformat_minor": 5
}
